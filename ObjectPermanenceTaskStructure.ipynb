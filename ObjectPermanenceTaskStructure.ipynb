{
  "nbformat": 4,
  "nbformat_minor": 0,
  "metadata": {
    "colab": {
      "provenance": [],
      "include_colab_link": true
    },
    "kernelspec": {
      "name": "python3",
      "display_name": "Python 3"
    },
    "language_info": {
      "name": "python"
    }
  },
  "cells": [
    {
      "cell_type": "markdown",
      "metadata": {
        "id": "view-in-github",
        "colab_type": "text"
      },
      "source": [
        "<a href=\"https://colab.research.google.com/github/RyanBurnell/Object-permanence-inference-model/blob/main/ObjectPermanenceTaskStructure.ipynb\" target=\"_parent\"><img src=\"https://colab.research.google.com/assets/colab-badge.svg\" alt=\"Open In Colab\"/></a>"
      ]
    },
    {
      "cell_type": "code",
      "execution_count": null,
      "metadata": {
        "colab": {
          "base_uri": "https://localhost:8080/"
        },
        "id": "tBRORQb44FoF",
        "outputId": "2192025a-ca56-4701-f882-480c9b41a3a1"
      },
      "outputs": [
        {
          "output_type": "stream",
          "name": "stdout",
          "text": [
            "Looking in indexes: https://pypi.org/simple, https://us-python.pkg.dev/colab-wheels/public/simple/\n",
            "Requirement already satisfied: pymc in /usr/local/lib/python3.8/dist-packages (4.1.4)\n",
            "Requirement already satisfied: pandas>=0.24.0 in /usr/local/lib/python3.8/dist-packages (from pymc) (1.3.5)\n",
            "Requirement already satisfied: arviz>=0.12.0 in /usr/local/lib/python3.8/dist-packages (from pymc) (0.12.1)\n",
            "Requirement already satisfied: typing-extensions>=3.7.4 in /usr/local/lib/python3.8/dist-packages (from pymc) (4.4.0)\n",
            "Requirement already satisfied: cloudpickle in /usr/local/lib/python3.8/dist-packages (from pymc) (1.5.0)\n",
            "Requirement already satisfied: numpy>=1.15.0 in /usr/local/lib/python3.8/dist-packages (from pymc) (1.21.6)\n",
            "Requirement already satisfied: cachetools>=4.2.1 in /usr/local/lib/python3.8/dist-packages (from pymc) (5.2.0)\n",
            "Requirement already satisfied: scipy>=1.4.1 in /usr/local/lib/python3.8/dist-packages (from pymc) (1.7.3)\n",
            "Requirement already satisfied: aeppl==0.0.33 in /usr/local/lib/python3.8/dist-packages (from pymc) (0.0.33)\n",
            "Requirement already satisfied: aesara==2.7.9 in /usr/local/lib/python3.8/dist-packages (from pymc) (2.7.9)\n",
            "Requirement already satisfied: fastprogress>=0.2.0 in /usr/local/lib/python3.8/dist-packages (from pymc) (1.0.3)\n",
            "Requirement already satisfied: etuples in /usr/local/lib/python3.8/dist-packages (from aesara==2.7.9->pymc) (0.3.8)\n",
            "Requirement already satisfied: cons in /usr/local/lib/python3.8/dist-packages (from aesara==2.7.9->pymc) (0.4.5)\n",
            "Requirement already satisfied: logical-unification in /usr/local/lib/python3.8/dist-packages (from aesara==2.7.9->pymc) (0.4.5)\n",
            "Requirement already satisfied: miniKanren in /usr/local/lib/python3.8/dist-packages (from aesara==2.7.9->pymc) (1.0.3)\n",
            "Requirement already satisfied: filelock in /usr/local/lib/python3.8/dist-packages (from aesara==2.7.9->pymc) (3.8.0)\n",
            "Requirement already satisfied: setuptools>=45.0.0 in /usr/local/lib/python3.8/dist-packages (from aesara==2.7.9->pymc) (57.4.0)\n",
            "Requirement already satisfied: xarray>=0.16.1 in /usr/local/lib/python3.8/dist-packages (from arviz>=0.12.0->pymc) (0.20.2)\n",
            "Requirement already satisfied: netcdf4 in /usr/local/lib/python3.8/dist-packages (from arviz>=0.12.0->pymc) (1.6.2)\n",
            "Requirement already satisfied: packaging in /usr/local/lib/python3.8/dist-packages (from arviz>=0.12.0->pymc) (21.3)\n",
            "Requirement already satisfied: matplotlib>=3.0 in /usr/local/lib/python3.8/dist-packages (from arviz>=0.12.0->pymc) (3.2.2)\n",
            "Requirement already satisfied: xarray-einstats>=0.2 in /usr/local/lib/python3.8/dist-packages (from arviz>=0.12.0->pymc) (0.3.0)\n",
            "Requirement already satisfied: python-dateutil>=2.1 in /usr/local/lib/python3.8/dist-packages (from matplotlib>=3.0->arviz>=0.12.0->pymc) (2.8.2)\n",
            "Requirement already satisfied: cycler>=0.10 in /usr/local/lib/python3.8/dist-packages (from matplotlib>=3.0->arviz>=0.12.0->pymc) (0.11.0)\n",
            "Requirement already satisfied: kiwisolver>=1.0.1 in /usr/local/lib/python3.8/dist-packages (from matplotlib>=3.0->arviz>=0.12.0->pymc) (1.4.4)\n",
            "Requirement already satisfied: pyparsing!=2.0.4,!=2.1.2,!=2.1.6,>=2.0.1 in /usr/local/lib/python3.8/dist-packages (from matplotlib>=3.0->arviz>=0.12.0->pymc) (3.0.9)\n",
            "Requirement already satisfied: pytz>=2017.3 in /usr/local/lib/python3.8/dist-packages (from pandas>=0.24.0->pymc) (2022.6)\n",
            "Requirement already satisfied: six>=1.5 in /usr/local/lib/python3.8/dist-packages (from python-dateutil>=2.1->matplotlib>=3.0->arviz>=0.12.0->pymc) (1.15.0)\n",
            "Requirement already satisfied: toolz in /usr/local/lib/python3.8/dist-packages (from logical-unification->aesara==2.7.9->pymc) (0.12.0)\n",
            "Requirement already satisfied: multipledispatch in /usr/local/lib/python3.8/dist-packages (from logical-unification->aesara==2.7.9->pymc) (0.6.0)\n",
            "Requirement already satisfied: cftime in /usr/local/lib/python3.8/dist-packages (from netcdf4->arviz>=0.12.0->pymc) (1.6.2)\n",
            "Looking in indexes: https://pypi.org/simple, https://us-python.pkg.dev/colab-wheels/public/simple/\n",
            "Requirement already satisfied: numpy in /usr/local/lib/python3.8/dist-packages (1.21.6)\n",
            "Looking in indexes: https://pypi.org/simple, https://us-python.pkg.dev/colab-wheels/public/simple/\n",
            "Requirement already satisfied: arviz in /usr/local/lib/python3.8/dist-packages (0.12.1)\n",
            "Requirement already satisfied: xarray>=0.16.1 in /usr/local/lib/python3.8/dist-packages (from arviz) (0.20.2)\n",
            "Requirement already satisfied: netcdf4 in /usr/local/lib/python3.8/dist-packages (from arviz) (1.6.2)\n",
            "Requirement already satisfied: matplotlib>=3.0 in /usr/local/lib/python3.8/dist-packages (from arviz) (3.2.2)\n",
            "Requirement already satisfied: setuptools>=38.4 in /usr/local/lib/python3.8/dist-packages (from arviz) (57.4.0)\n",
            "Requirement already satisfied: packaging in /usr/local/lib/python3.8/dist-packages (from arviz) (21.3)\n",
            "Requirement already satisfied: scipy>=0.19 in /usr/local/lib/python3.8/dist-packages (from arviz) (1.7.3)\n",
            "Requirement already satisfied: xarray-einstats>=0.2 in /usr/local/lib/python3.8/dist-packages (from arviz) (0.3.0)\n",
            "Requirement already satisfied: numpy>=1.12 in /usr/local/lib/python3.8/dist-packages (from arviz) (1.21.6)\n",
            "Requirement already satisfied: pandas>=0.23 in /usr/local/lib/python3.8/dist-packages (from arviz) (1.3.5)\n",
            "Requirement already satisfied: typing-extensions>=3.7.4.3 in /usr/local/lib/python3.8/dist-packages (from arviz) (4.4.0)\n",
            "Requirement already satisfied: kiwisolver>=1.0.1 in /usr/local/lib/python3.8/dist-packages (from matplotlib>=3.0->arviz) (1.4.4)\n",
            "Requirement already satisfied: cycler>=0.10 in /usr/local/lib/python3.8/dist-packages (from matplotlib>=3.0->arviz) (0.11.0)\n",
            "Requirement already satisfied: python-dateutil>=2.1 in /usr/local/lib/python3.8/dist-packages (from matplotlib>=3.0->arviz) (2.8.2)\n",
            "Requirement already satisfied: pyparsing!=2.0.4,!=2.1.2,!=2.1.6,>=2.0.1 in /usr/local/lib/python3.8/dist-packages (from matplotlib>=3.0->arviz) (3.0.9)\n",
            "Requirement already satisfied: pytz>=2017.3 in /usr/local/lib/python3.8/dist-packages (from pandas>=0.23->arviz) (2022.6)\n",
            "Requirement already satisfied: six>=1.5 in /usr/local/lib/python3.8/dist-packages (from python-dateutil>=2.1->matplotlib>=3.0->arviz) (1.15.0)\n",
            "Requirement already satisfied: cftime in /usr/local/lib/python3.8/dist-packages (from netcdf4->arviz) (1.6.2)\n",
            "Looking in indexes: https://pypi.org/simple, https://us-python.pkg.dev/colab-wheels/public/simple/\n",
            "Requirement already satisfied: erroranalysis in /usr/local/lib/python3.8/dist-packages (0.3.13)\n",
            "Requirement already satisfied: scipy>=1.4.1 in /usr/local/lib/python3.8/dist-packages (from erroranalysis) (1.7.3)\n",
            "Requirement already satisfied: numpy>=1.17.2 in /usr/local/lib/python3.8/dist-packages (from erroranalysis) (1.21.6)\n",
            "Requirement already satisfied: raiutils>=0.2.0 in /usr/local/lib/python3.8/dist-packages (from erroranalysis) (0.2.0)\n",
            "Requirement already satisfied: pandas>=0.25.1 in /usr/local/lib/python3.8/dist-packages (from erroranalysis) (1.3.5)\n",
            "Requirement already satisfied: scikit-learn>=0.22.1 in /usr/local/lib/python3.8/dist-packages (from erroranalysis) (1.0.2)\n",
            "Requirement already satisfied: lightgbm>=2.0.11 in /usr/local/lib/python3.8/dist-packages (from erroranalysis) (2.2.3)\n",
            "Requirement already satisfied: python-dateutil>=2.7.3 in /usr/local/lib/python3.8/dist-packages (from pandas>=0.25.1->erroranalysis) (2.8.2)\n",
            "Requirement already satisfied: pytz>=2017.3 in /usr/local/lib/python3.8/dist-packages (from pandas>=0.25.1->erroranalysis) (2022.6)\n",
            "Requirement already satisfied: six>=1.5 in /usr/local/lib/python3.8/dist-packages (from python-dateutil>=2.7.3->pandas>=0.25.1->erroranalysis) (1.15.0)\n",
            "Requirement already satisfied: requests in /usr/local/lib/python3.8/dist-packages (from raiutils>=0.2.0->erroranalysis) (2.23.0)\n",
            "Requirement already satisfied: joblib>=0.11 in /usr/local/lib/python3.8/dist-packages (from scikit-learn>=0.22.1->erroranalysis) (1.2.0)\n",
            "Requirement already satisfied: threadpoolctl>=2.0.0 in /usr/local/lib/python3.8/dist-packages (from scikit-learn>=0.22.1->erroranalysis) (3.1.0)\n",
            "Requirement already satisfied: chardet<4,>=3.0.2 in /usr/local/lib/python3.8/dist-packages (from requests->raiutils>=0.2.0->erroranalysis) (3.0.4)\n",
            "Requirement already satisfied: urllib3!=1.25.0,!=1.25.1,<1.26,>=1.21.1 in /usr/local/lib/python3.8/dist-packages (from requests->raiutils>=0.2.0->erroranalysis) (1.24.3)\n",
            "Requirement already satisfied: idna<3,>=2.5 in /usr/local/lib/python3.8/dist-packages (from requests->raiutils>=0.2.0->erroranalysis) (2.10)\n",
            "Requirement already satisfied: certifi>=2017.4.17 in /usr/local/lib/python3.8/dist-packages (from requests->raiutils>=0.2.0->erroranalysis) (2022.9.24)\n"
          ]
        }
      ],
      "source": [
        "!pip install pymc\n",
        "!pip install numpy\n",
        "!pip install arviz\n",
        "!pip install erroranalysis"
      ]
    },
    {
      "cell_type": "code",
      "source": [
        "import pymc as pm\n",
        "import numpy as np\n",
        "import arviz as az\n",
        "import random as rm\n",
        "from scipy import stats\n",
        "import pandas as pd\n",
        "import erroranalysis as ea\n",
        "import matplotlib.pyplot as plt\n",
        "\n",
        "\n",
        "print(f\"Running on PyMC v{pm.__version__}\")"
      ],
      "metadata": {
        "colab": {
          "base_uri": "https://localhost:8080/"
        },
        "id": "iiJxq-yR4R6h",
        "outputId": "7b02c959-d87b-4dd7-d694-02fe7a16e19f"
      },
      "execution_count": null,
      "outputs": [
        {
          "output_type": "stream",
          "name": "stdout",
          "text": [
            "Running on PyMC v4.1.4\n"
          ]
        }
      ]
    },
    {
      "cell_type": "code",
      "source": [
        "agentCols=[]"
      ],
      "metadata": {
        "id": "jbi2jnJiD08W"
      },
      "execution_count": null,
      "outputs": []
    },
    {
      "cell_type": "code",
      "source": [
        "######### Generate simulated data if needed or read in file #########\n",
        "# Reading the dataset from the file. ****NEED TO UPLOAD THE DATA INTO COLAB EACH TIME. IT WILL GET DELETED AFTER EACH SESSION IS TERMINATED****\n",
        "df = pd.read_csv ('AgentsWithMetaData.csv')#pd.read_csv ('AgentsWithMetaData.csv')\n",
        "\n",
        "useDummyData = True # We have real data so not needed\n",
        "\n",
        "#Create a fake dataset with appropriate column names for usage later\n",
        "\n",
        "if useDummyData:\n",
        "  # Creating some agents to see if we can recover the right values of the abilities\n",
        "\n",
        "  length = df[\"InstanceName\"].count()\n",
        "  #df.append()\n",
        "\n",
        "  randomAgent = np.random.uniform(0,1,length).round()\n",
        "  df['perfectAgent'] = [1]*length\n",
        "  df['worstAgent'] = [0]*length\n",
        "  df['perfectAgentWhenNoLava'] = 1 - df[\"LavaPresence\"]\n",
        "  df['perfectAgentTimeBelowThree'] = (df[\"TimeUnderOcclusion\"] < 3) * 1.0  # Ignoring everything else as being solved by the agent the ability would be at least 11 * 2.5 = 27.5\n",
        "  df['perfectAgentTimeBelowTwo'] = (df[\"TimeUnderOcclusion\"] < 2) * 1.0  # Ignoring everything else as being solved by the agent the ability would be at least 11 * 1.5 = 16.5\n",
        "  df['perfectAgentPositionsBelowTen'] = (df[\"TimeUnderOcclusion\"] * df[\"NumOtherPositionsAvailable\"] < 10) * 1.0  # Ignoring everything else as being solved by the agent the ability would be exactly 10\n",
        "  df['AgentNoObjPerm'] = (df[\"TimeUnderOcclusion\"] * df[\"NumOtherPositionsAvailable\"] == 0.0) * 1.0  # Ignoring everything else as being solved by the agent the ability would be exactly 0\n",
        "  df['AgentNoObjPermOrLava'] = (df[\"TimeUnderOcclusion\"] + df[\"LavaPresence\"] == 0) * 1.0\n",
        "  df['AgentNoObjPermOrRamp'] = (df[\"TimeUnderOcclusion\"] + df[\"RampPresence\"] == 0) * 1.0\n",
        "  agentCols = df.columns[df.columns.str.contains(r'\\D*Agent[^0-9]*$')] ## Doesn't include the ones with numbers at the end from the table.\n",
        "  print(agentCols)\n",
        "  # All of them work and the abilities are recovered almost perfectly\n",
        "  #taskResults = perfectAgent\n",
        "  #taskResults = perfectAgentWhenNoLava\n",
        "  #taskResults = perfectAgentWhenTimeOccludedLowerThan3  # This is the only for which the initialisation of the model worked with John's framework, provided only the first 50 examples are given\n",
        "  #taskResults = perfectAgentWhenTimeOccludedLowerThan2 \n",
        "  #taskResults = perfectAgentWhenTimexPositionsLowerThan10\n",
        "  #taskResults = perfectAgentWithNoObjectPermanence\n",
        "  #taskResults = worstAgent\n",
        "  #taskResults = [0,1]\n",
        "else: \n",
        "  #Create list of agents included in the data. Assumes naming convention Agent1, Agent2, etc.\n",
        "  agentCols = df.columns[df.columns.str.contains('Agent')]\n",
        "  print(agentCols)\n",
        "  ### Make a separate df for the agent data [not needed]\n",
        "  #agents = df[agentCols]\n",
        "  #agents['InstanceName'] = df['InstanceName']\n",
        "\n",
        "  #print(df.head())\n",
        "  #print(agents.head())\n",
        "  #df.describe()\n"
      ],
      "metadata": {
        "id": "PcXMy8HMH2ox",
        "colab": {
          "base_uri": "https://localhost:8080/"
        },
        "outputId": "05ef2bb7-461f-41e4-818d-6d4dd4af48be"
      },
      "execution_count": null,
      "outputs": [
        {
          "output_type": "stream",
          "name": "stdout",
          "text": [
            "Index(['perfectAgent', 'worstAgent', 'perfectAgentWhenNoLava',\n",
            "       'perfectAgentTimeBelowThree', 'perfectAgentTimeBelowTwo',\n",
            "       'perfectAgentPositionsBelowTen', 'AgentNoObjPerm',\n",
            "       'AgentNoObjPermOrLava', 'AgentNoObjPermOrRamp'],\n",
            "      dtype='object')\n"
          ]
        }
      ]
    },
    {
      "cell_type": "code",
      "source": [],
      "metadata": {
        "id": "hab9L1AVLkMj"
      },
      "execution_count": null,
      "outputs": []
    },
    {
      "cell_type": "code",
      "source": [
        "####Clean up feature data columns#######\n",
        "\n",
        "df['OccluderPresence']= (df['TimeUnderOcclusion'] != 0) * 1.0   # Creating new variable for OccluderPresence\n",
        "df['NumOtherPositionsAvailable'] = df['NumOtherPositionsAvailable'].fillna(0)  # Replace nans by 0s\n",
        "df['GoalSize']=df['GoalSize'].astype(np.double)\n",
        "df[\"OccluderRedness\"]=df[\"OccluderRedness\"].fillna(0)\n",
        "df[\"OccluderGreenness\"]=df[\"OccluderGreenness\"].fillna(0)\n",
        "df[\"OccluderBlueness\"]=df[\"OccluderBlueness\"].fillna(0)\n",
        "#Print unique values for key features\n",
        "print('TimeUnderOcclusion: ',df['TimeUnderOcclusion'].unique())\n",
        "print('RightLeftPosition: ',df['RightLeftPosition'].unique())\n",
        "print('NumOtherPositionsAvailable: ',df['NumOtherPositionsAvailable'].unique())\n",
        "print('Goal sizes: ',df['GoalSize'].unique())   \n",
        "print('Occluder Colours: ',df['OccluderColour'].unique())  # Still need to have an extra arrow to occluder for nans\n",
        "\n",
        "#Print head of dataframe\n",
        "print(df.head())\n",
        "#df.describe()\n",
        "#df.count()"
      ],
      "metadata": {
        "colab": {
          "base_uri": "https://localhost:8080/"
        },
        "id": "_BZfN8pVx_gU",
        "outputId": "3f4cdf41-e75b-40fe-ccca-c43af80fdf90"
      },
      "execution_count": null,
      "outputs": [
        {
          "output_type": "stream",
          "name": "stdout",
          "text": [
            "TimeUnderOcclusion:  [3 1 2 4 0]\n",
            "RightLeftPosition:  [-1  1  0]\n",
            "NumOtherPositionsAvailable:  [ 1.  2.  3.  7. 11.  0.]\n",
            "Goal sizes:  [2.  0.5 1.  2.5 3.  1.5 4.  5. ]\n",
            "Occluder Colours:  ['Beige' 'Brown' 'DarkBlue' 'DarkGreen' 'Grey' 'OffWhite' 'Blue' nan]\n",
            "  Paradigm                                       InstanceName  \\\n",
            "0  CVChick  OP-STC-Allo-CVChick-1Occluder-Left-Beige-0-OPQ...   \n",
            "1  CVChick  OP-STC-Allo-CVChick-1Occluder-Left-Brown-0-OPQ...   \n",
            "2  CVChick  OP-STC-Allo-CVChick-1Occluder-Left-DarkBlue-0-...   \n",
            "3  CVChick  OP-STC-Allo-CVChick-1Occluder-Left-DarkGreen-0...   \n",
            "4  CVChick  OP-STC-Allo-CVChick-1Occluder-Left-Grey-0-OPQ.yml   \n",
            "\n",
            "      AbilityTested  LavaPresence  PlatformPresence  RampPresence  \\\n",
            "0  ObjectPermanence             1                 1             0   \n",
            "1  ObjectPermanence             1                 1             0   \n",
            "2  ObjectPermanence             1                 1             0   \n",
            "3  ObjectPermanence             1                 1             0   \n",
            "4  ObjectPermanence             1                 1             0   \n",
            "\n",
            "   TimeUnderOcclusion OccluderColour  RightLeftPosition RowPosition  ...  \\\n",
            "0                   3          Beige                 -1         NaN  ...   \n",
            "1                   3          Brown                 -1         NaN  ...   \n",
            "2                   3       DarkBlue                 -1         NaN  ...   \n",
            "3                   3      DarkGreen                 -1         NaN  ...   \n",
            "4                   3           Grey                 -1         NaN  ...   \n",
            "\n",
            "  Agent17  perfectAgent  worstAgent  perfectAgentWhenNoLava  \\\n",
            "0       1             1           0                       0   \n",
            "1       1             1           0                       0   \n",
            "2       1             1           0                       0   \n",
            "3       1             1           0                       0   \n",
            "4       1             1           0                       0   \n",
            "\n",
            "   perfectAgentTimeBelowThree  perfectAgentTimeBelowTwo  \\\n",
            "0                         0.0                       0.0   \n",
            "1                         0.0                       0.0   \n",
            "2                         0.0                       0.0   \n",
            "3                         0.0                       0.0   \n",
            "4                         0.0                       0.0   \n",
            "\n",
            "   perfectAgentPositionsBelowTen  AgentNoObjPerm  AgentNoObjPermOrLava  \\\n",
            "0                            1.0             0.0                   0.0   \n",
            "1                            1.0             0.0                   0.0   \n",
            "2                            1.0             0.0                   0.0   \n",
            "3                            1.0             0.0                   0.0   \n",
            "4                            1.0             0.0                   0.0   \n",
            "\n",
            "   AgentNoObjPermOrRamp  \n",
            "0                   0.0  \n",
            "1                   0.0  \n",
            "2                   0.0  \n",
            "3                   0.0  \n",
            "4                   0.0  \n",
            "\n",
            "[5 rows x 47 columns]\n"
          ]
        }
      ]
    },
    {
      "cell_type": "code",
      "source": [
        "###Some data exploration###\n",
        "#TODO - erroranalysis.ai?? Port over IJCAI code??\n",
        "\n",
        "#FOR EACH AGENT, look at patterns of performance\n",
        "\n",
        "# Checking some biases:\n",
        "#print(np.corrcoef(taskResults, df[\"RightLeftPosition\"])[0,1]) \n",
        "#print(np.corrcoef(taskResults, df[\"OccluderRedness\"])[0,1]) \n",
        "#print(np.corrcoef(taskResults, df[\"OccluderGreenness\"])[0,1]) \n",
        "#print(np.corrcoef(taskResults, df[\"OccluderBlueness\"])[0,1])   # There's some correlation with the blue (this will be seen in the results)\n"
      ],
      "metadata": {
        "id": "HwZ6uqD7KaO5"
      },
      "execution_count": null,
      "outputs": []
    },
    {
      "cell_type": "code",
      "source": [
        "# Performances are always observable, and in this case between 0 and 1. They are events, and their unit is happening/not happening.\n",
        "# Features are also observable, and can have different scales (0/1, lavaPresence, or 1..10, numPositions, etc). They have units.\n",
        "# Abilities have the scale that derives from the operations that are performed on the features, and have the units derived from it. Usually binary when the attribute is binary, and in other ranges in other cases.\n",
        "# Margins are comparisons between abilities and features, usually expressed in terms of probabilities (PrMargin), or in terms of logodds (LOMargin). They have the same unit as the ability.\n",
        "# \"P\"s is what we previously called \"latent performances\", but this name is a bit of an aberration, even if thought as an imaginary performance if the diagram stopped there. I just call them P for the moment because they are probabilities.\n",
        "# Weights (W) are random variables that have to be estimated to see how each component affects performance\n"
      ],
      "metadata": {
        "id": "9nkpohUytED_"
      },
      "execution_count": null,
      "outputs": []
    },
    {
      "cell_type": "code",
      "source": [
        "######Define values & functions that will be used to define the model later########\n",
        "uniformAbilitySlack = 1.1 # Constant to multiply the maximum of abilities that are uniform to allow for the value to be above the maximum observable value for the corresponding feature\n",
        "\n",
        "#Decide \"maximum capabilities\" based on the hardest values in the dataset\n",
        "maxTime = max(df[\"TimeUnderOcclusion\"])\n",
        "print('maxTime: ', maxTime)\n",
        "maxPositions = max(df[\"NumOtherPositionsAvailable\"])\n",
        "print('maxPositions: ',maxPositions)\n",
        "maxGoalSize= max(df[\"GoalSize\"])\n",
        "print('maxGoalSize: ', maxGoalSize) \n",
        "maxPermAbility = maxTime* maxPositions* uniformAbilitySlack      \n",
        "print('maxPermAbility: ', maxPermAbility)   \n",
        "maxMemoryAbility = maxTime * uniformAbilitySlack            \n",
        "print('maxMemoryAbility: ', maxMemoryAbility)   \n",
        "\n",
        "#Define useful functions for use within the model\n",
        "def logistic(x):\n",
        "  return 1 / (1 + np.exp(-x))\n",
        "\n",
        "def SimplePrMargin(ability, binaryFeature): # must return a value between 0 and 1\n",
        "  return 1-((1-ability)*binaryFeature)  # If binaryFeature is 0 then the margin represents p(success)=1. If binaryFeature = 1 then p(success)=ability\n",
        "\n",
        "# updated to set margin as max when no occluder is present\n",
        "def objPermanenceLOMargin(ability, occluderPresence, timeUnderOcclusion, numPositions): #,  visualAcuityP): # must return a value between -inf and inf (more precisely between -maxPermAbility and maxPermAbility)\n",
        "  OPPerformance = ability  - timeUnderOcclusion * numPositions\n",
        "  return maxPermAbility-((maxPermAbility-OPPerformance)*occluderPresence)\n",
        "  #return ability  - occluderPresence * timeUnderOcc * numPositions  # Goes between -inf to inf, with logodds=0 meaning this would lead to 0.5 chance of success\n",
        "  #  return ability - timeUnderOcc * maxPositions - numPositions * maxTime  # Keeping same ranges but making it additive and possibly easier\n",
        "  # It's probably better to use some weighted generalised mean, but for the moment the product makes more sense\n",
        "\n",
        "def visualAcuityLOMargin(ability, goalSmallness): # must return a value between -inf and inf  (more precisely between -maxVisualAcuityAbility and maxVisualAcuityAbility)\n",
        "  return ability - goalSmallness   # Goes between -inf to inf, with logodds=0 meaning this would lead to 0.5 chance of success\n",
        "\n",
        "def memoryLOMargin(ability, timeUnderOcc): # must return a value between -inf and inf  (more precisely between -maxMemoryAbility and maxMemoryAbility)\n",
        "  return ability - timeUnderOcc   # Goes between -inf to inf, with logodds=0 meaning this would lead to 0.5 chance of success\n",
        "\n",
        "def navigationPrMargin(simpleNavigationP, lavaP, rampP, platP) :  # , visualAcuityP): # must return a value between 0 and 1\n",
        "  #   return (simpleNavigationP + lavaP + rampP + platP) / 4  # This is the only case where an ability goes directly to a performance, without any feature of the instance intermediating. Perhaps if we had distance...\n",
        "                                                            # By dividing by four, we keep the range 0..1\n",
        "  return simpleNavigationP * lavaP * rampP * platP # * visualAcuityP  # I think a product makes more sense, since if lavaPerf is zero, this means there's lava and the ability of handling lava is zero, with a high probability of failure.\n",
        "  # It's probably better to use some weighted generalised mean, but for the moment the product makes more sense\n",
        "\n",
        "def finalTaskPrMargin(objPermanenceP, navigationP, visualAcuityP): # must return a value between 0 and 1\n",
        "  #  return (objPermanenceP + navigationP)/2  \n",
        "  return objPermanenceP * navigationP * visualAcuityP       # Again I consider that we need both things if we do have both things.  \n",
        "\n",
        "abilityMin = {} #Initialize ability Min and max dataframes for plotting ranges\n",
        "abilityMax = {}"
      ],
      "metadata": {
        "id": "dpNvsOCU4UyK",
        "outputId": "de7ab8c3-f6db-4ce3-9ca5-f247a08fb9b8",
        "colab": {
          "base_uri": "https://localhost:8080/"
        }
      },
      "execution_count": null,
      "outputs": [
        {
          "output_type": "stream",
          "name": "stdout",
          "text": [
            "maxTime:  4\n",
            "maxPositions:  11.0\n",
            "maxGoalSize:  5.0\n",
            "maxPermAbility:  48.400000000000006\n",
            "maxMemoryAbility:  4.4\n"
          ]
        }
      ]
    },
    {
      "cell_type": "code",
      "source": [
        "###### Define function that generates a PyMC model following our theorised structure. This will be called once for each agent.\n",
        "includeIrrelevantFeatures = True\n",
        "memoryEffect = \"directIndirect\" # \"none\" if ignoring memory entirely # \"directIndirect\" if memory goes to both performance and OP ability\n",
        "def SetupModel(taskResults):\n",
        "  m = pm.Model()\n",
        "  with m:\n",
        "    \n",
        "    ## Define priors (about the agent)\n",
        "    #memory & OP abilities\n",
        "    if memoryEffect == \"none\":\n",
        "      # objPermAbility = pm.Exponential(\"objPermAbility\", 1)             # [0,inf] Exponential distribution with lambda around 1 (this one gives problems)\n",
        "      # objPermAbility = pm.Normal(\"objPermAbility\", 30, 20)              # Note that time goes between 0 and 4 and positions quite high (11) so this number can be  40. The value has to be close and the sigma high otherwise the initialisation fails\n",
        "      # objPermAbility = pm.TruncatedNormal(\"objPermAbility\", mu=30, sigma=10, lower=0) # [0,inf] This one makes more sense than the normal, but it gives error even with high sigma\n",
        "      # objPermAbility = maxPermAbility* pm.Beta(\"objPermAbility\", 1, 1)  # [0,maxPermAbility] This is the one that works best\n",
        "      objPermAbility = pm.Uniform(\"objPermAbility\", 0, maxPermAbility)  # [0,maxPermAbility] This is the same as above, but we have the ability in the right magnitude\n",
        "      abilityMin[\"objPermAbility\"] = 0\n",
        "      abilityMax[\"objPermAbility\"] = maxPermAbility\n",
        "    elif memoryEffect == \"directOnly\":\n",
        "      memoryAbility = pm.Uniform(\"memoryAbility\", 0, maxMemoryAbility)  # [0,maxMemoryAbility] This is the same as above, but we have the ability in the right magnitude\n",
        "      abilityMin[\"memoryAbility\"] = 0\n",
        "      abilityMax[\"memoryAbility\"] = maxMemoryAbility\n",
        "      \n",
        "      objPermAbility = pm.Uniform(\"objPermAbility\", 0, maxPermAbility)  # [0,maxPermAbility] This is the same as above, but we have the ability in the right magnitude\n",
        "      abilityMin[\"objPermAbility\"] = 0\n",
        "      abilityMax[\"objPermAbility\"] = maxPermAbility\n",
        "    elif memoryEffect == \"directIndirect\":\n",
        "      memoryAbility = pm.Uniform(\"memoryAbility\", 0, maxMemoryAbility)  # [0,maxMemoryAbility] This is the same as above, but we have the ability in the right magnitude\n",
        "      abilityMin[\"memoryAbility\"] = 0\n",
        "      abilityMax[\"memoryAbility\"] = maxMemoryAbility\n",
        "      \n",
        "      objPermAbility = pm.Uniform(\"objPermAbility\", 0, memoryAbility * maxPositions )  # [0,maxPermAbility]  # This introduces memoryAbility in a product, so mostly non-compensatory and as a cap.\n",
        "      abilityMin[\"objPermAbility\"] = 0\n",
        "      abilityMax[\"objPermAbility\"] = maxMemoryAbility * maxPositions\n",
        "\n",
        "    #Visual acuity\n",
        "    maxVisualAcuityAbility = maxGoalSize* uniformAbilitySlack                       # The 1.1 is to have some margin to see also if it overestimates in those cases where this ability is maximal\n",
        "    visualAcuityAbility = pm.Uniform(\"visualAcuityAbility\", 0, maxVisualAcuityAbility)\n",
        "    abilityMin[\"visualAcuityAbility\"] = 0\n",
        "    abilityMax[\"visualAcuityAbility\"] = maxVisualAcuityAbility\n",
        "    \n",
        "    # flatNavAbility = pm.Beta(\"flatNavAbility\", 1,1)                  # [0,1] This is just moving around without lava, platforms or ramps. For consistency with other simple tasks (and IJCAI paper) this should be [0,inf] and depend on size and location of goal \n",
        "    flatNavAbility = pm.Normal(\"flatNavAbility\", 0, 1)                 # [-inf,inf] This is an ability centered on 0, as it is used directly as a logit joinlty with the Left/Right influence\n",
        "    abilityMin[\"flatNavAbility\"] = -np.inf\n",
        "    abilityMax[\"flatNavAbility\"] = np.inf\n",
        "    lavaAbility = pm.Beta(\"lavaAbility\", 1,1)                        # [0,1] Specific ability with lava\n",
        "    abilityMin[\"lavaAbility\"] = 0\n",
        "    abilityMax[\"lavaAbility\"] = 1\n",
        "    #  lavaAbility = pm.Deterministic(\"lavaAbility\", pm.math.constant(0.5))\n",
        "    platformAbility = pm.Beta(\"platformAbility\",1,1)                  # [0,1] Specific ability with platforms\n",
        "    abilityMin[\"platformAbility\"] = 0\n",
        "    abilityMax[\"platformAbility\"] = 1\n",
        "    #  platformAbility = pm.Deterministic(\"platformAbility\", pm.math.constant(0.5))       \n",
        "    rampAbility = pm.Beta(\"rampAbility\",1,1)                          # [0,1] Specific ability with ramps\n",
        "    abilityMin[\"rampAbility\"] = 0\n",
        "    abilityMax[\"rampAbility\"] = 1\n",
        "    #  rampAbility = pm.Deterministic(\"rampAbility\", pm.math.constant(0.5))                         \n",
        "    \n",
        "    # Other properties of the agent that we wouldn't call abilities, we can call them \"bias\"\n",
        "    \n",
        "    if (includeIrrelevantFeatures) :\n",
        "      rightLeftBias = pm.Normal(\"rightLeftBias\", 0,1)                  # [-inf,inf] A parameter to determine whether left or right have an influence. It's expected to be zero, but negative would be left influence and positive a right influence (or vice versa :-) \n",
        "      abilityMin[\"rightLeftBias\"] = -np.inf\n",
        "      abilityMax[\"rightLeftBias\"] = np.inf\n",
        "      rednessBias = pm.Normal(\"rednessBias\", 0,1)                      # [-inf,inf] A parameter to determine whether redness has an influence\n",
        "      abilityMin[\"rednessBias\"] = -np.inf\n",
        "      abilityMax[\"rednessBias\"] = np.inf\n",
        "      greennessBias = pm.Normal(\"greennessBias\", 0,1)                  # [-inf,inf] A parameter to determine whether greenness has an influence\n",
        "      abilityMin[\"greennessBias\"] = -np.inf\n",
        "      abilityMax[\"greennessBias\"] = np.inf\n",
        "      bluenessBias = pm.Normal(\"bluenessBias\", 0,1)                    # [-inf,inf] A parameter to determine whether blueness has an influence  \n",
        "      abilityMin[\"bluenessBias\"] = -np.inf\n",
        "      abilityMax[\"bluenessBias\"] = np.inf\n",
        "\n",
        "    ## Environment variables as Deterministic (about the instance)\n",
        "    ## RELEVANT\n",
        "    lavaPresence = pm.Deterministic(\"lavaPresence\", pm.math.constant(df[\"LavaPresence\"].values))\n",
        "    rampPresence = pm.Deterministic(\"rampPresence\", pm.math.constant(df[\"RampPresence\"].values))\n",
        "    platformPresence = pm.Deterministic(\"platformPresence\", pm.math.constant(df[\"PlatformPresence\"].values))\n",
        "    timeUnderOcc = pm.Deterministic(\"timeUnderOcc\", pm.math.constant(df[\"TimeUnderOcclusion\"].values))\n",
        "    numPositions = pm.Deterministic(\"numPositions\", pm.math.constant(df[\"NumOtherPositionsAvailable\"].values))\n",
        "    occluderPresence = pm.Deterministic(\"occluderPresence\", pm.math.constant(df[\"OccluderPresence\"].values))\n",
        "    goalSize = pm.Deterministic(\"goalSize\", pm.math.constant(df[\"GoalSize\"].values))\n",
        "    # Not considered yet  \n",
        "    # \"GoalSize\" -> Affects visual acuity. This should influence simpleNavigationP as well?\n",
        "    # \"TransparentWallPresence\"\n",
        "    # \"LightsOutPresence\"\n",
        "    # \"GoodGoalBounce?\"\n",
        "    # \"ForcedChoice?\"\n",
        "    #\n",
        "    ## SUPPOSEDLY IRRELEVANT\n",
        "    if (includeIrrelevantFeatures) :\n",
        "      rightLeftPosition = pm.Deterministic(\"rightLeftPosition\", pm.math.constant(df[\"RightLeftPosition\"].values))\n",
        "      occluderRedness = pm.Deterministic(\"occluderRedness\", pm.math.constant(df[\"OccluderRedness\"].values))\n",
        "      occluderGreenness = pm.Deterministic(\"occluderGreenness\", pm.math.constant(df[\"OccluderGreenness\"].values))\n",
        "      occluderBlueness = pm.Deterministic(\"occluderBlueness\", pm.math.constant(df[\"OccluderBlueness\"].values))\n",
        "    # \"RowPosition\"\n",
        "    # \"ColumnPosition\"\n",
        "\n",
        "    goalSmallness = maxGoalSize - goalSize\n",
        "    visualAcuityP = pm.Deterministic(\"visualAcuityP\", logistic(visualAcuityLOMargin(visualAcuityAbility, goalSmallness)))\n",
        "\n",
        "    if (includeIrrelevantFeatures) :\n",
        "      rightLeftEffect = pm.Deterministic(\"rightLeftEffect\", rightLeftBias * rightLeftPosition) \n",
        "    else :\n",
        "      rightLeftEffect = 0\n",
        "      \n",
        "    ## Performance metrics based on Navigation and hazards\n",
        "    # Simple navigation including one supposed irrelevant feature\n",
        "    # flatNavP = pm.Bernoulli(\"flatNavP\", logit_p = flatNavAbility + rightLeftBias * rightLeftPosition) \n",
        "    flatNavP = pm.Deterministic(\"flatNavP\", logistic(flatNavAbility + rightLeftEffect))\n",
        "\n",
        "    # Other relevant features for non-flat navigation (climbing and jumping)\n",
        "    #lavaP = pm.Bernoulli(\"lavaP\", SimplePrMargin(lavaAbility, lavaPresence)) ## If LavaPresence is 0 then lavaPerformance has p(success)=1. If LavaPresence = 1 then p(success)=lavaAbility\n",
        "    lavaP = pm.Deterministic(\"lavaP\", SimplePrMargin(lavaAbility, lavaPresence))\n",
        "    #rampP = pm.Bernoulli(\"rampP\", SimplePrMargin(rampAbility, rampPresence)) \n",
        "    rampP = pm.Deterministic(\"rampP\", SimplePrMargin(rampAbility, rampPresence)) \n",
        "    #  rampP = 1.0\n",
        "    # platformP = pm.Bernoulli(\"platformP\", SimplePrMargin(platformAbility, platformPresence))\n",
        "    platformP = pm.Deterministic(\"platformP\", SimplePrMargin(platformAbility, platformPresence))\n",
        "  #  platformP = 1.0\n",
        "    # navP = pm.Bernoulli(\"NavP\", navigationPrMargin(flatNavP, lavaP, rampP, platformP)) \n",
        "    navP = pm.Deterministic(\"navP\", navigationPrMargin(flatNavP, lavaP, rampP, platformP)) #, visualAcuityP)) \n",
        "    #navP = pm.Deterministic(\"NavP\", pm.math.constant(0.5))\n",
        "\n",
        "    # Occluder Colour Bias\n",
        "    if (includeIrrelevantFeatures) :\n",
        "      # occluderRedness Goes between 0 and 255, we need to divide by 255 to get it between 0 and 1, and then put it between -1 and 1 as doen for all biases\n",
        "      occluderRednessSign = occluderRedness / 255.0 * 2.0 - 2.0  \n",
        "      occluderGreennessSign = occluderGreenness / 255.0 * 2.0 - 2.0  \n",
        "      occluderBluenessSign = occluderBlueness / 255.0 * 2.0 - 2.0  \n",
        "      occluderColourEffect = pm.Deterministic(\"occluderColourBias\", (rednessBias * occluderRednessSign + greennessBias * occluderGreennessSign + bluenessBias * occluderBluenessSign) * occluderPresence)  # If occluder is not present there should not be any effect  \n",
        "    else :\n",
        "      occluderColourEffect = 0  # To ignore the effect of colour in the model\n",
        "\n",
        "    if memoryEffect == \"none\":\n",
        "      #OP performance determined by OP ability plus occluder presence, time under occlusion and numpositions. Memory considered part of OP\n",
        "      OPLOM = objPermanenceLOMargin(objPermAbility, occluderPresence, timeUnderOcc, numPositions) # , visualAcuityP)\n",
        "      logisticOPLOM = logistic(OPLOM + occluderColourEffect)\n",
        "      objPermP = pm.Deterministic(\"objPermP\", logistic(OPLOM + occluderColourEffect))\n",
        "    else:\n",
        "      MEMM = memoryLOMargin(memoryAbility, timeUnderOcc)\n",
        "      memoryP = pm.Deterministic(\"memoryP\", logistic(MEMM))  \n",
        "      if memoryEffect == \"directIndirect\":\n",
        "        #OP performance determined by memory ability, max time and number of positions - but if no occluder, OP performance should be at maximum. Memory considered to feed into OP and OP performance\n",
        "        OPLOM = objPermanenceLOMargin(objPermAbility, occluderPresence, maxTime, numPositions) # , visualAcuityP)  # We set timeUnderOcc=maxTime because this has been considered already by memoryP, which will be used later on\n",
        "        objPermP = pm.Deterministic(\"objPermP\", memoryP * logistic(OPLOM + occluderColourEffect))      \n",
        "      elif memoryEffect == \"directOnly\":\n",
        "        #OP performance determined by OP ability plus numpositions. Memory considered separate to OP               \n",
        "        OPLOM = objPermanenceLOMargin(objPermAbility, occluderPresence, maxTime, numPositions) # , visualAcuityP)  # We set timeUnderOcc=maxTime because this has been considered already by memoryP, which will be used later on\n",
        "        objPermP = pm.Deterministic(\"objPermP\", memoryP * logistic(OPLOM + occluderColourEffect))\n",
        "          \n",
        "    # Beta distributions can also be specified with mean, mean (0 < mu < 1) and  standard deviation (1 < sigma < sqrt(mu * (1 - mu))). And this way we can introduce a prior.  \n",
        "    # memoryAbilityPriorMean01 = memoryAbility/maxMemoryAbility # MemoryAbility prior between 0 and 1\n",
        "    # mu = memoryAbilityPriorMean01\n",
        "    # memoryAbilityPriorSDev01 = (1 + np.sqrt(mu*(1-mu)))/2.0  # The prior for the SD is the mean of the minimum and maximum possible SDs\n",
        "    # objPermAbility = maxPermAbility * pm.Beta(\"objPermAbility\", memoryAbilityPriorMean01, memoryAbilityPriorSDev01 )  # [0,maxPermAbility] \n",
        "\n",
        "\n",
        "    taskPerformance = pm.Bernoulli(\"taskPerformance\", finalTaskPrMargin(objPermP, navP, visualAcuityP), observed=taskResults)  \n",
        "    #data = pm.sample(5000)\n",
        "    #priorData=pm.sample_prior_predictive(5000)\n",
        "\n",
        "  pm.model_graph.model_to_graphviz(m)\n",
        "\n",
        "  return m"
      ],
      "metadata": {
        "id": "asAUwzDDW5Nd"
      },
      "execution_count": null,
      "outputs": []
    },
    {
      "cell_type": "code",
      "source": [
        "from IPython.display import Image\n",
        "import graphviz  \n",
        "taskResults = df[\"Agent1\"] #set task results with first agent just to generate the model diagram\n",
        "m = SetupModel(taskResults)\n",
        "gv = pm.model_graph.model_to_graphviz(m)\n",
        "gv.format=\"png\"\n",
        "gv.render\n",
        "gv.render(directory='viz')\n",
        "Image(\"viz/Digraph.gv.png\")\n",
        "gv\n",
        "## We can make viz less bad"
      ],
      "metadata": {
        "colab": {
          "base_uri": "https://localhost:8080/",
          "height": 773
        },
        "id": "WHSZsdyIugP4",
        "outputId": "cb855799-9ac3-40f5-eae0-e37fd694019d"
      },
      "execution_count": null,
      "outputs": [
        {
          "output_type": "execute_result",
          "data": {
            "text/plain": [
              "<graphviz.dot.Digraph at 0x7fdc25b2e730>"
            ],
            "image/svg+xml": "<?xml version=\"1.0\" encoding=\"UTF-8\" standalone=\"no\"?>\n<!DOCTYPE svg PUBLIC \"-//W3C//DTD SVG 1.1//EN\"\n \"http://www.w3.org/Graphics/SVG/1.1/DTD/svg11.dtd\">\n<!-- Generated by graphviz version 2.40.1 (20161225.0304)\n -->\n<!-- Title: %3 Pages: 1 -->\n<svg width=\"2323pt\" height=\"549pt\"\n viewBox=\"0.00 0.00 2323.20 548.84\" xmlns=\"http://www.w3.org/2000/svg\" xmlns:xlink=\"http://www.w3.org/1999/xlink\">\n<g id=\"graph0\" class=\"graph\" transform=\"scale(1 1) rotate(0) translate(4 544.8366)\">\n<title>%3</title>\n<polygon fill=\"#ffffff\" stroke=\"transparent\" points=\"-4,4 -4,-544.8366 2319.1995,-544.8366 2319.1995,4 -4,4\"/>\n<g id=\"clust1\" class=\"cluster\">\n<title>cluster1632</title>\n<path fill=\"none\" stroke=\"#000000\" d=\"M170.9533,-8C170.9533,-8 1279.9533,-8 1279.9533,-8 1285.9533,-8 1291.9533,-14 1291.9533,-20 1291.9533,-20 1291.9533,-520.8366 1291.9533,-520.8366 1291.9533,-526.8366 1285.9533,-532.8366 1279.9533,-532.8366 1279.9533,-532.8366 170.9533,-532.8366 170.9533,-532.8366 164.9533,-532.8366 158.9533,-526.8366 158.9533,-520.8366 158.9533,-520.8366 158.9533,-20 158.9533,-20 158.9533,-14 164.9533,-8 170.9533,-8\"/>\n<text text-anchor=\"middle\" x=\"1268.4533\" y=\"-15.8\" font-family=\"Times,serif\" font-size=\"14.00\" fill=\"#000000\">1632</text>\n</g>\n<!-- platformAbility -->\n<g id=\"node1\" class=\"node\">\n<title>platformAbility</title>\n<ellipse fill=\"none\" stroke=\"#000000\" cx=\"74.9533\" cy=\"-387.3833\" rx=\"74.9067\" ry=\"37.4533\"/>\n<text text-anchor=\"middle\" x=\"74.9533\" y=\"-398.6833\" font-family=\"Times,serif\" font-size=\"14.00\" fill=\"#000000\">platformAbility</text>\n<text text-anchor=\"middle\" x=\"74.9533\" y=\"-383.6833\" font-family=\"Times,serif\" font-size=\"14.00\" fill=\"#000000\">~</text>\n<text text-anchor=\"middle\" x=\"74.9533\" y=\"-368.6833\" font-family=\"Times,serif\" font-size=\"14.00\" fill=\"#000000\">Beta</text>\n</g>\n<!-- platformP -->\n<g id=\"node22\" class=\"node\">\n<title>platformP</title>\n<polygon fill=\"none\" stroke=\"#000000\" points=\"270.9533,-302.93 178.9533,-302.93 178.9533,-249.93 270.9533,-249.93 270.9533,-302.93\"/>\n<text text-anchor=\"middle\" x=\"224.9533\" y=\"-287.73\" font-family=\"Times,serif\" font-size=\"14.00\" fill=\"#000000\">platformP</text>\n<text text-anchor=\"middle\" x=\"224.9533\" y=\"-272.73\" font-family=\"Times,serif\" font-size=\"14.00\" fill=\"#000000\">~</text>\n<text text-anchor=\"middle\" x=\"224.9533\" y=\"-257.73\" font-family=\"Times,serif\" font-size=\"14.00\" fill=\"#000000\">Deterministic</text>\n</g>\n<!-- platformAbility&#45;&gt;platformP -->\n<g id=\"edge12\" class=\"edge\">\n<title>platformAbility&#45;&gt;platformP</title>\n<path fill=\"none\" stroke=\"#000000\" d=\"M117.1359,-356.1813C136.9374,-341.5344 160.5407,-324.0753 180.6076,-309.232\"/>\n<polygon fill=\"#000000\" stroke=\"#000000\" points=\"182.7231,-312.0207 188.6814,-303.2599 178.5603,-306.3929 182.7231,-312.0207\"/>\n</g>\n<!-- objPermAbility -->\n<g id=\"node2\" class=\"node\">\n<title>objPermAbility</title>\n<ellipse fill=\"none\" stroke=\"#000000\" cx=\"1376.9533\" cy=\"-276.43\" rx=\"74.9067\" ry=\"37.4533\"/>\n<text text-anchor=\"middle\" x=\"1376.9533\" y=\"-287.73\" font-family=\"Times,serif\" font-size=\"14.00\" fill=\"#000000\">objPermAbility</text>\n<text text-anchor=\"middle\" x=\"1376.9533\" y=\"-272.73\" font-family=\"Times,serif\" font-size=\"14.00\" fill=\"#000000\">~</text>\n<text text-anchor=\"middle\" x=\"1376.9533\" y=\"-257.73\" font-family=\"Times,serif\" font-size=\"14.00\" fill=\"#000000\">Uniform</text>\n</g>\n<!-- objPermP -->\n<g id=\"node24\" class=\"node\">\n<title>objPermP</title>\n<polygon fill=\"none\" stroke=\"#000000\" points=\"1043.9533,-202.9533 951.9533,-202.9533 951.9533,-149.9533 1043.9533,-149.9533 1043.9533,-202.9533\"/>\n<text text-anchor=\"middle\" x=\"997.9533\" y=\"-187.7533\" font-family=\"Times,serif\" font-size=\"14.00\" fill=\"#000000\">objPermP</text>\n<text text-anchor=\"middle\" x=\"997.9533\" y=\"-172.7533\" font-family=\"Times,serif\" font-size=\"14.00\" fill=\"#000000\">~</text>\n<text text-anchor=\"middle\" x=\"997.9533\" y=\"-157.7533\" font-family=\"Times,serif\" font-size=\"14.00\" fill=\"#000000\">Deterministic</text>\n</g>\n<!-- objPermAbility&#45;&gt;objPermP -->\n<g id=\"edge28\" class=\"edge\">\n<title>objPermAbility&#45;&gt;objPermP</title>\n<path fill=\"none\" stroke=\"#000000\" d=\"M1323.6156,-249.6901C1314.5252,-245.7322 1305.0723,-241.9756 1295.9533,-238.9533 1213.7748,-211.7166 1114.7788,-193.7493 1054.1169,-184.3386\"/>\n<polygon fill=\"#000000\" stroke=\"#000000\" points=\"1054.3982,-180.8411 1043.9844,-182.7912 1053.3413,-187.7609 1054.3982,-180.8411\"/>\n</g>\n<!-- rampAbility -->\n<g id=\"node3\" class=\"node\">\n<title>rampAbility</title>\n<ellipse fill=\"none\" stroke=\"#000000\" cx=\"1362.9533\" cy=\"-387.3833\" rx=\"60.623\" ry=\"37.4533\"/>\n<text text-anchor=\"middle\" x=\"1362.9533\" y=\"-398.6833\" font-family=\"Times,serif\" font-size=\"14.00\" fill=\"#000000\">rampAbility</text>\n<text text-anchor=\"middle\" x=\"1362.9533\" y=\"-383.6833\" font-family=\"Times,serif\" font-size=\"14.00\" fill=\"#000000\">~</text>\n<text text-anchor=\"middle\" x=\"1362.9533\" y=\"-368.6833\" font-family=\"Times,serif\" font-size=\"14.00\" fill=\"#000000\">Beta</text>\n</g>\n<!-- rampP -->\n<g id=\"node12\" class=\"node\">\n<title>rampP</title>\n<polygon fill=\"none\" stroke=\"#000000\" points=\"480.9533,-302.93 388.9533,-302.93 388.9533,-249.93 480.9533,-249.93 480.9533,-302.93\"/>\n<text text-anchor=\"middle\" x=\"434.9533\" y=\"-287.73\" font-family=\"Times,serif\" font-size=\"14.00\" fill=\"#000000\">rampP</text>\n<text text-anchor=\"middle\" x=\"434.9533\" y=\"-272.73\" font-family=\"Times,serif\" font-size=\"14.00\" fill=\"#000000\">~</text>\n<text text-anchor=\"middle\" x=\"434.9533\" y=\"-257.73\" font-family=\"Times,serif\" font-size=\"14.00\" fill=\"#000000\">Deterministic</text>\n</g>\n<!-- rampAbility&#45;&gt;rampP -->\n<g id=\"edge10\" class=\"edge\">\n<title>rampAbility&#45;&gt;rampP</title>\n<path fill=\"none\" stroke=\"#000000\" d=\"M1320.998,-360.0748C1312.965,-355.9724 1304.4137,-352.3149 1295.9533,-349.9066 1123.5136,-300.8217 660.0633,-370.5404 489.9533,-313.9066 485.3968,-312.3897 480.8701,-310.3774 476.4837,-308.0707\"/>\n<polygon fill=\"#000000\" stroke=\"#000000\" points=\"478.1191,-304.9733 467.7122,-302.9867 474.6088,-311.0295 478.1191,-304.9733\"/>\n</g>\n<!-- memoryAbility -->\n<g id=\"node4\" class=\"node\">\n<title>memoryAbility</title>\n<ellipse fill=\"none\" stroke=\"#000000\" cx=\"2240.9533\" cy=\"-387.3833\" rx=\"74.4932\" ry=\"37.4533\"/>\n<text text-anchor=\"middle\" x=\"2240.9533\" y=\"-398.6833\" font-family=\"Times,serif\" font-size=\"14.00\" fill=\"#000000\">memoryAbility</text>\n<text text-anchor=\"middle\" x=\"2240.9533\" y=\"-383.6833\" font-family=\"Times,serif\" font-size=\"14.00\" fill=\"#000000\">~</text>\n<text text-anchor=\"middle\" x=\"2240.9533\" y=\"-368.6833\" font-family=\"Times,serif\" font-size=\"14.00\" fill=\"#000000\">Uniform</text>\n</g>\n<!-- memoryAbility&#45;&gt;objPermAbility -->\n<g id=\"edge1\" class=\"edge\">\n<title>memoryAbility&#45;&gt;objPermAbility</title>\n<path fill=\"none\" stroke=\"#000000\" d=\"M2188.867,-360.3455C2178.8395,-356.1592 2168.2481,-352.4026 2157.9533,-349.9066 1856.4964,-276.8175 1762.5729,-386.3212 1460.9533,-313.9066 1453.8009,-312.1894 1446.5028,-309.8769 1439.3431,-307.2388\"/>\n<polygon fill=\"#000000\" stroke=\"#000000\" points=\"1440.2802,-303.8472 1429.6922,-303.465 1437.7309,-310.3665 1440.2802,-303.8472\"/>\n</g>\n<!-- memoryP -->\n<g id=\"node16\" class=\"node\">\n<title>memoryP</title>\n<polygon fill=\"none\" stroke=\"#000000\" points=\"1173.9533,-302.93 1081.9533,-302.93 1081.9533,-249.93 1173.9533,-249.93 1173.9533,-302.93\"/>\n<text text-anchor=\"middle\" x=\"1127.9533\" y=\"-287.73\" font-family=\"Times,serif\" font-size=\"14.00\" fill=\"#000000\">memoryP</text>\n<text text-anchor=\"middle\" x=\"1127.9533\" y=\"-272.73\" font-family=\"Times,serif\" font-size=\"14.00\" fill=\"#000000\">~</text>\n<text text-anchor=\"middle\" x=\"1127.9533\" y=\"-257.73\" font-family=\"Times,serif\" font-size=\"14.00\" fill=\"#000000\">Deterministic</text>\n</g>\n<!-- memoryAbility&#45;&gt;memoryP -->\n<g id=\"edge26\" class=\"edge\">\n<title>memoryAbility&#45;&gt;memoryP</title>\n<path fill=\"none\" stroke=\"#000000\" d=\"M2189.3452,-360.4088C2179.1826,-356.1587 2168.4201,-352.363 2157.9533,-349.9066 1946.874,-300.3693 1388.9298,-381.5981 1182.9533,-313.9066 1178.391,-312.4073 1173.8604,-310.407 1169.4714,-308.1078\"/>\n<polygon fill=\"#000000\" stroke=\"#000000\" points=\"1171.1055,-305.0098 1160.6966,-303.0337 1167.6014,-311.0696 1171.1055,-305.0098\"/>\n</g>\n<!-- rednessBias -->\n<g id=\"node5\" class=\"node\">\n<title>rednessBias</title>\n<ellipse fill=\"none\" stroke=\"#000000\" cx=\"2089.9533\" cy=\"-387.3833\" rx=\"58.8803\" ry=\"37.4533\"/>\n<text text-anchor=\"middle\" x=\"2089.9533\" y=\"-398.6833\" font-family=\"Times,serif\" font-size=\"14.00\" fill=\"#000000\">rednessBias</text>\n<text text-anchor=\"middle\" x=\"2089.9533\" y=\"-383.6833\" font-family=\"Times,serif\" font-size=\"14.00\" fill=\"#000000\">~</text>\n<text text-anchor=\"middle\" x=\"2089.9533\" y=\"-368.6833\" font-family=\"Times,serif\" font-size=\"14.00\" fill=\"#000000\">Normal</text>\n</g>\n<!-- occluderColourBias -->\n<g id=\"node13\" class=\"node\">\n<title>occluderColourBias</title>\n<polygon fill=\"none\" stroke=\"#000000\" points=\"1063.4533,-302.93 932.4533,-302.93 932.4533,-249.93 1063.4533,-249.93 1063.4533,-302.93\"/>\n<text text-anchor=\"middle\" x=\"997.9533\" y=\"-287.73\" font-family=\"Times,serif\" font-size=\"14.00\" fill=\"#000000\">occluderColourBias</text>\n<text text-anchor=\"middle\" x=\"997.9533\" y=\"-272.73\" font-family=\"Times,serif\" font-size=\"14.00\" fill=\"#000000\">~</text>\n<text text-anchor=\"middle\" x=\"997.9533\" y=\"-257.73\" font-family=\"Times,serif\" font-size=\"14.00\" fill=\"#000000\">Deterministic</text>\n</g>\n<!-- rednessBias&#45;&gt;occluderColourBias -->\n<g id=\"edge21\" class=\"edge\">\n<title>rednessBias&#45;&gt;occluderColourBias</title>\n<path fill=\"none\" stroke=\"#000000\" d=\"M2048.7403,-360.4013C2040.4956,-356.1519 2031.6784,-352.3584 2022.9533,-349.9066 1819.5679,-292.7552 1277.6149,-366.3044 1072.9533,-313.9066 1066.3214,-312.2087 1059.5949,-309.8698 1053.0324,-307.1827\"/>\n<polygon fill=\"#000000\" stroke=\"#000000\" points=\"1054.1288,-303.8417 1043.565,-303.0307 1051.3173,-310.2524 1054.1288,-303.8417\"/>\n</g>\n<!-- flatNavAbility -->\n<g id=\"node6\" class=\"node\">\n<title>flatNavAbility</title>\n<ellipse fill=\"none\" stroke=\"#000000\" cx=\"1642.9533\" cy=\"-387.3833\" rx=\"70.0071\" ry=\"37.4533\"/>\n<text text-anchor=\"middle\" x=\"1642.9533\" y=\"-398.6833\" font-family=\"Times,serif\" font-size=\"14.00\" fill=\"#000000\">flatNavAbility</text>\n<text text-anchor=\"middle\" x=\"1642.9533\" y=\"-383.6833\" font-family=\"Times,serif\" font-size=\"14.00\" fill=\"#000000\">~</text>\n<text text-anchor=\"middle\" x=\"1642.9533\" y=\"-368.6833\" font-family=\"Times,serif\" font-size=\"14.00\" fill=\"#000000\">Normal</text>\n</g>\n<!-- flatNavP -->\n<g id=\"node18\" class=\"node\">\n<title>flatNavP</title>\n<polygon fill=\"none\" stroke=\"#000000\" points=\"700.9533,-302.93 608.9533,-302.93 608.9533,-249.93 700.9533,-249.93 700.9533,-302.93\"/>\n<text text-anchor=\"middle\" x=\"654.9533\" y=\"-287.73\" font-family=\"Times,serif\" font-size=\"14.00\" fill=\"#000000\">flatNavP</text>\n<text text-anchor=\"middle\" x=\"654.9533\" y=\"-272.73\" font-family=\"Times,serif\" font-size=\"14.00\" fill=\"#000000\">~</text>\n<text text-anchor=\"middle\" x=\"654.9533\" y=\"-257.73\" font-family=\"Times,serif\" font-size=\"14.00\" fill=\"#000000\">Deterministic</text>\n</g>\n<!-- flatNavAbility&#45;&gt;flatNavP -->\n<g id=\"edge7\" class=\"edge\">\n<title>flatNavAbility&#45;&gt;flatNavP</title>\n<path fill=\"none\" stroke=\"#000000\" d=\"M1593.9176,-360.4809C1584.2369,-356.2241 1573.9684,-352.4076 1563.9533,-349.9066 1229.8414,-266.4728 1130.0014,-368.3063 789.9533,-313.9066 763.5659,-309.6853 734.9636,-302.185 710.9074,-294.9975\"/>\n<polygon fill=\"#000000\" stroke=\"#000000\" points=\"711.8267,-291.6188 701.2408,-292.0539 709.7875,-298.3152 711.8267,-291.6188\"/>\n</g>\n<!-- greennessBias -->\n<g id=\"node7\" class=\"node\">\n<title>greennessBias</title>\n<ellipse fill=\"none\" stroke=\"#000000\" cx=\"1799.9533\" cy=\"-387.3833\" rx=\"68.6788\" ry=\"37.4533\"/>\n<text text-anchor=\"middle\" x=\"1799.9533\" y=\"-398.6833\" font-family=\"Times,serif\" font-size=\"14.00\" fill=\"#000000\">greennessBias</text>\n<text text-anchor=\"middle\" x=\"1799.9533\" y=\"-383.6833\" font-family=\"Times,serif\" font-size=\"14.00\" fill=\"#000000\">~</text>\n<text text-anchor=\"middle\" x=\"1799.9533\" y=\"-368.6833\" font-family=\"Times,serif\" font-size=\"14.00\" fill=\"#000000\">Normal</text>\n</g>\n<!-- greennessBias&#45;&gt;occluderColourBias -->\n<g id=\"edge24\" class=\"edge\">\n<title>greennessBias&#45;&gt;occluderColourBias</title>\n<path fill=\"none\" stroke=\"#000000\" d=\"M1751.548,-360.5504C1741.989,-356.2872 1731.8476,-352.4505 1721.9533,-349.9066 1442.1651,-277.9708 1352.1757,-388.0082 1072.9533,-313.9066 1066.4311,-312.1757 1059.8115,-309.8427 1053.3438,-307.1824\"/>\n<polygon fill=\"#000000\" stroke=\"#000000\" points=\"1054.5689,-303.8979 1044.0054,-303.0826 1051.7549,-310.3074 1054.5689,-303.8979\"/>\n</g>\n<!-- bluenessBias -->\n<g id=\"node8\" class=\"node\">\n<title>bluenessBias</title>\n<ellipse fill=\"none\" stroke=\"#000000\" cx=\"1949.9533\" cy=\"-387.3833\" rx=\"63.7795\" ry=\"37.4533\"/>\n<text text-anchor=\"middle\" x=\"1949.9533\" y=\"-398.6833\" font-family=\"Times,serif\" font-size=\"14.00\" fill=\"#000000\">bluenessBias</text>\n<text text-anchor=\"middle\" x=\"1949.9533\" y=\"-383.6833\" font-family=\"Times,serif\" font-size=\"14.00\" fill=\"#000000\">~</text>\n<text text-anchor=\"middle\" x=\"1949.9533\" y=\"-368.6833\" font-family=\"Times,serif\" font-size=\"14.00\" fill=\"#000000\">Normal</text>\n</g>\n<!-- bluenessBias&#45;&gt;occluderColourBias -->\n<g id=\"edge18\" class=\"edge\">\n<title>bluenessBias&#45;&gt;occluderColourBias</title>\n<path fill=\"none\" stroke=\"#000000\" d=\"M1905.4682,-360.4548C1896.6263,-356.2004 1887.2081,-352.3915 1877.9533,-349.9066 1532.0681,-257.0394 1419.5939,-403.9135 1072.9533,-313.9066 1066.3272,-312.1861 1059.6044,-309.8329 1053.044,-307.1375\"/>\n<polygon fill=\"#000000\" stroke=\"#000000\" points=\"1054.1418,-303.7969 1043.5787,-302.9774 1051.3253,-310.2053 1054.1418,-303.7969\"/>\n</g>\n<!-- rightLeftBias -->\n<g id=\"node9\" class=\"node\">\n<title>rightLeftBias</title>\n<ellipse fill=\"none\" stroke=\"#000000\" cx=\"1364.9533\" cy=\"-498.3366\" rx=\"65.1077\" ry=\"37.4533\"/>\n<text text-anchor=\"middle\" x=\"1364.9533\" y=\"-509.6366\" font-family=\"Times,serif\" font-size=\"14.00\" fill=\"#000000\">rightLeftBias</text>\n<text text-anchor=\"middle\" x=\"1364.9533\" y=\"-494.6366\" font-family=\"Times,serif\" font-size=\"14.00\" fill=\"#000000\">~</text>\n<text text-anchor=\"middle\" x=\"1364.9533\" y=\"-479.6366\" font-family=\"Times,serif\" font-size=\"14.00\" fill=\"#000000\">Normal</text>\n</g>\n<!-- rightLeftEffect -->\n<g id=\"node32\" class=\"node\">\n<title>rightLeftEffect</title>\n<polygon fill=\"none\" stroke=\"#000000\" points=\"625.4533,-413.8833 524.4533,-413.8833 524.4533,-360.8833 625.4533,-360.8833 625.4533,-413.8833\"/>\n<text text-anchor=\"middle\" x=\"574.9533\" y=\"-398.6833\" font-family=\"Times,serif\" font-size=\"14.00\" fill=\"#000000\">rightLeftEffect</text>\n<text text-anchor=\"middle\" x=\"574.9533\" y=\"-383.6833\" font-family=\"Times,serif\" font-size=\"14.00\" fill=\"#000000\">~</text>\n<text text-anchor=\"middle\" x=\"574.9533\" y=\"-368.6833\" font-family=\"Times,serif\" font-size=\"14.00\" fill=\"#000000\">Deterministic</text>\n</g>\n<!-- rightLeftBias&#45;&gt;rightLeftEffect -->\n<g id=\"edge4\" class=\"edge\">\n<title>rightLeftBias&#45;&gt;rightLeftEffect</title>\n<path fill=\"none\" stroke=\"#000000\" d=\"M1320.9001,-470.7275C1312.8574,-466.7683 1304.3477,-463.2373 1295.9533,-460.86 1012.874,-380.6884 915.4668,-513.593 634.9533,-424.86 630.0297,-423.3025 625.1049,-421.2457 620.312,-418.8955\"/>\n<polygon fill=\"#000000\" stroke=\"#000000\" points=\"621.7611,-415.7013 611.2928,-414.0686 618.4581,-421.8731 621.7611,-415.7013\"/>\n</g>\n<!-- lavaAbility -->\n<g id=\"node10\" class=\"node\">\n<title>lavaAbility</title>\n<ellipse fill=\"none\" stroke=\"#000000\" cx=\"1497.9533\" cy=\"-387.3833\" rx=\"56.6372\" ry=\"37.4533\"/>\n<text text-anchor=\"middle\" x=\"1497.9533\" y=\"-398.6833\" font-family=\"Times,serif\" font-size=\"14.00\" fill=\"#000000\">lavaAbility</text>\n<text text-anchor=\"middle\" x=\"1497.9533\" y=\"-383.6833\" font-family=\"Times,serif\" font-size=\"14.00\" fill=\"#000000\">~</text>\n<text text-anchor=\"middle\" x=\"1497.9533\" y=\"-368.6833\" font-family=\"Times,serif\" font-size=\"14.00\" fill=\"#000000\">Beta</text>\n</g>\n<!-- lavaP -->\n<g id=\"node15\" class=\"node\">\n<title>lavaP</title>\n<polygon fill=\"none\" stroke=\"#000000\" points=\"590.9533,-302.93 498.9533,-302.93 498.9533,-249.93 590.9533,-249.93 590.9533,-302.93\"/>\n<text text-anchor=\"middle\" x=\"544.9533\" y=\"-287.73\" font-family=\"Times,serif\" font-size=\"14.00\" fill=\"#000000\">lavaP</text>\n<text text-anchor=\"middle\" x=\"544.9533\" y=\"-272.73\" font-family=\"Times,serif\" font-size=\"14.00\" fill=\"#000000\">~</text>\n<text text-anchor=\"middle\" x=\"544.9533\" y=\"-257.73\" font-family=\"Times,serif\" font-size=\"14.00\" fill=\"#000000\">Deterministic</text>\n</g>\n<!-- lavaAbility&#45;&gt;lavaP -->\n<g id=\"edge8\" class=\"edge\">\n<title>lavaAbility&#45;&gt;lavaP</title>\n<path fill=\"none\" stroke=\"#000000\" d=\"M1458.0361,-360.4377C1450.0314,-356.1849 1441.4584,-352.3809 1432.9533,-349.9066 1255.0448,-298.1507 775.7929,-372.3068 599.9533,-313.9066 595.3957,-312.393 590.8683,-310.383 586.4814,-308.0777\"/>\n<polygon fill=\"#000000\" stroke=\"#000000\" points=\"588.1166,-304.9801 577.7092,-302.9955 584.6074,-311.037 588.1166,-304.9801\"/>\n</g>\n<!-- visualAcuityAbility -->\n<g id=\"node11\" class=\"node\">\n<title>visualAcuityAbility</title>\n<ellipse fill=\"none\" stroke=\"#000000\" cx=\"1561.9533\" cy=\"-276.43\" rx=\"91.8478\" ry=\"37.4533\"/>\n<text text-anchor=\"middle\" x=\"1561.9533\" y=\"-287.73\" font-family=\"Times,serif\" font-size=\"14.00\" fill=\"#000000\">visualAcuityAbility</text>\n<text text-anchor=\"middle\" x=\"1561.9533\" y=\"-272.73\" font-family=\"Times,serif\" font-size=\"14.00\" fill=\"#000000\">~</text>\n<text text-anchor=\"middle\" x=\"1561.9533\" y=\"-257.73\" font-family=\"Times,serif\" font-size=\"14.00\" fill=\"#000000\">Uniform</text>\n</g>\n<!-- visualAcuityP -->\n<g id=\"node17\" class=\"node\">\n<title>visualAcuityP</title>\n<polygon fill=\"none\" stroke=\"#000000\" points=\"1283.9533,-202.9533 1185.9533,-202.9533 1185.9533,-149.9533 1283.9533,-149.9533 1283.9533,-202.9533\"/>\n<text text-anchor=\"middle\" x=\"1234.9533\" y=\"-187.7533\" font-family=\"Times,serif\" font-size=\"14.00\" fill=\"#000000\">visualAcuityP</text>\n<text text-anchor=\"middle\" x=\"1234.9533\" y=\"-172.7533\" font-family=\"Times,serif\" font-size=\"14.00\" fill=\"#000000\">~</text>\n<text text-anchor=\"middle\" x=\"1234.9533\" y=\"-157.7533\" font-family=\"Times,serif\" font-size=\"14.00\" fill=\"#000000\">Deterministic</text>\n</g>\n<!-- visualAcuityAbility&#45;&gt;visualAcuityP -->\n<g id=\"edge3\" class=\"edge\">\n<title>visualAcuityAbility&#45;&gt;visualAcuityP</title>\n<path fill=\"none\" stroke=\"#000000\" d=\"M1494.866,-250.6261C1483.6009,-246.5557 1471.9873,-242.5189 1460.9533,-238.9533 1404.8357,-220.819 1339.8573,-203.1939 1294.0179,-191.3091\"/>\n<polygon fill=\"#000000\" stroke=\"#000000\" points=\"1294.805,-187.8977 1284.2476,-188.7878 1293.0558,-194.6756 1294.805,-187.8977\"/>\n</g>\n<!-- navP -->\n<g id=\"node23\" class=\"node\">\n<title>navP</title>\n<polygon fill=\"none\" stroke=\"#000000\" points=\"590.9533,-202.9533 498.9533,-202.9533 498.9533,-149.9533 590.9533,-149.9533 590.9533,-202.9533\"/>\n<text text-anchor=\"middle\" x=\"544.9533\" y=\"-187.7533\" font-family=\"Times,serif\" font-size=\"14.00\" fill=\"#000000\">navP</text>\n<text text-anchor=\"middle\" x=\"544.9533\" y=\"-172.7533\" font-family=\"Times,serif\" font-size=\"14.00\" fill=\"#000000\">~</text>\n<text text-anchor=\"middle\" x=\"544.9533\" y=\"-157.7533\" font-family=\"Times,serif\" font-size=\"14.00\" fill=\"#000000\">Deterministic</text>\n</g>\n<!-- rampP&#45;&gt;navP -->\n<g id=\"edge14\" class=\"edge\">\n<title>rampP&#45;&gt;navP</title>\n<path fill=\"none\" stroke=\"#000000\" d=\"M464.1425,-249.9005C477.5684,-237.6981 493.648,-223.0837 507.9159,-210.1159\"/>\n<polygon fill=\"#000000\" stroke=\"#000000\" points=\"510.5816,-212.4227 515.6277,-203.1067 505.8735,-207.2425 510.5816,-212.4227\"/>\n</g>\n<!-- occluderColourBias&#45;&gt;objPermP -->\n<g id=\"edge29\" class=\"edge\">\n<title>occluderColourBias&#45;&gt;objPermP</title>\n<path fill=\"none\" stroke=\"#000000\" d=\"M997.9533,-249.9005C997.9533,-238.7149 997.9533,-225.5027 997.9533,-213.3898\"/>\n<polygon fill=\"#000000\" stroke=\"#000000\" points=\"1001.4534,-213.1067 997.9533,-203.1067 994.4534,-213.1068 1001.4534,-213.1067\"/>\n</g>\n<!-- platformPresence -->\n<g id=\"node14\" class=\"node\">\n<title>platformPresence</title>\n<polygon fill=\"none\" stroke=\"#000000\" points=\"282.4533,-413.8833 167.4533,-413.8833 167.4533,-360.8833 282.4533,-360.8833 282.4533,-413.8833\"/>\n<text text-anchor=\"middle\" x=\"224.9533\" y=\"-398.6833\" font-family=\"Times,serif\" font-size=\"14.00\" fill=\"#000000\">platformPresence</text>\n<text text-anchor=\"middle\" x=\"224.9533\" y=\"-383.6833\" font-family=\"Times,serif\" font-size=\"14.00\" fill=\"#000000\">~</text>\n<text text-anchor=\"middle\" x=\"224.9533\" y=\"-368.6833\" font-family=\"Times,serif\" font-size=\"14.00\" fill=\"#000000\">Deterministic</text>\n</g>\n<!-- platformPresence&#45;&gt;platformP -->\n<g id=\"edge13\" class=\"edge\">\n<title>platformPresence&#45;&gt;platformP</title>\n<path fill=\"none\" stroke=\"#000000\" d=\"M224.9533,-360.8072C224.9533,-346.6388 224.9533,-328.9811 224.9533,-313.4861\"/>\n<polygon fill=\"#000000\" stroke=\"#000000\" points=\"228.4534,-313.1737 224.9533,-303.1738 221.4534,-313.1738 228.4534,-313.1737\"/>\n</g>\n<!-- lavaP&#45;&gt;navP -->\n<g id=\"edge17\" class=\"edge\">\n<title>lavaP&#45;&gt;navP</title>\n<path fill=\"none\" stroke=\"#000000\" d=\"M544.9533,-249.9005C544.9533,-238.7149 544.9533,-225.5027 544.9533,-213.3898\"/>\n<polygon fill=\"#000000\" stroke=\"#000000\" points=\"548.4534,-213.1067 544.9533,-203.1067 541.4534,-213.1068 548.4534,-213.1067\"/>\n</g>\n<!-- memoryP&#45;&gt;objPermP -->\n<g id=\"edge30\" class=\"edge\">\n<title>memoryP&#45;&gt;objPermP</title>\n<path fill=\"none\" stroke=\"#000000\" d=\"M1093.457,-249.9005C1077.2963,-237.4721 1057.882,-222.5416 1040.7903,-209.3972\"/>\n<polygon fill=\"#000000\" stroke=\"#000000\" points=\"1042.6715,-206.4285 1032.6108,-203.1067 1038.4041,-211.9774 1042.6715,-206.4285\"/>\n</g>\n<!-- taskPerformance -->\n<g id=\"node26\" class=\"node\">\n<title>taskPerformance</title>\n<ellipse fill=\"#d3d3d3\" stroke=\"#000000\" cx=\"997.9533\" cy=\"-76.4767\" rx=\"78.4777\" ry=\"37.4533\"/>\n<text text-anchor=\"middle\" x=\"997.9533\" y=\"-87.7767\" font-family=\"Times,serif\" font-size=\"14.00\" fill=\"#000000\">taskPerformance</text>\n<text text-anchor=\"middle\" x=\"997.9533\" y=\"-72.7767\" font-family=\"Times,serif\" font-size=\"14.00\" fill=\"#000000\">~</text>\n<text text-anchor=\"middle\" x=\"997.9533\" y=\"-57.7767\" font-family=\"Times,serif\" font-size=\"14.00\" fill=\"#000000\">Bernoulli</text>\n</g>\n<!-- visualAcuityP&#45;&gt;taskPerformance -->\n<g id=\"edge32\" class=\"edge\">\n<title>visualAcuityP&#45;&gt;taskPerformance</title>\n<path fill=\"none\" stroke=\"#000000\" d=\"M1185.8468,-155.7381C1151.3492,-141.1856 1104.737,-121.5225 1066.5702,-105.4222\"/>\n<polygon fill=\"#000000\" stroke=\"#000000\" points=\"1067.6354,-102.0729 1057.0613,-101.4109 1064.9146,-108.5225 1067.6354,-102.0729\"/>\n</g>\n<!-- flatNavP&#45;&gt;navP -->\n<g id=\"edge15\" class=\"edge\">\n<title>flatNavP&#45;&gt;navP</title>\n<path fill=\"none\" stroke=\"#000000\" d=\"M625.7641,-249.9005C612.3383,-237.6981 596.2587,-223.0837 581.9908,-210.1159\"/>\n<polygon fill=\"#000000\" stroke=\"#000000\" points=\"584.0332,-207.2425 574.2789,-203.1067 579.325,-212.4227 584.0332,-207.2425\"/>\n</g>\n<!-- occluderGreenness -->\n<g id=\"node19\" class=\"node\">\n<title>occluderGreenness</title>\n<polygon fill=\"none\" stroke=\"#000000\" points=\"1031.9533,-413.8833 907.9533,-413.8833 907.9533,-360.8833 1031.9533,-360.8833 1031.9533,-413.8833\"/>\n<text text-anchor=\"middle\" x=\"969.9533\" y=\"-398.6833\" font-family=\"Times,serif\" font-size=\"14.00\" fill=\"#000000\">occluderGreenness</text>\n<text text-anchor=\"middle\" x=\"969.9533\" y=\"-383.6833\" font-family=\"Times,serif\" font-size=\"14.00\" fill=\"#000000\">~</text>\n<text text-anchor=\"middle\" x=\"969.9533\" y=\"-368.6833\" font-family=\"Times,serif\" font-size=\"14.00\" fill=\"#000000\">Deterministic</text>\n</g>\n<!-- occluderGreenness&#45;&gt;occluderColourBias -->\n<g id=\"edge20\" class=\"edge\">\n<title>occluderGreenness&#45;&gt;occluderColourBias</title>\n<path fill=\"none\" stroke=\"#000000\" d=\"M976.66,-360.8072C980.2699,-346.5026 984.7774,-328.6412 988.7145,-313.0397\"/>\n<polygon fill=\"#000000\" stroke=\"#000000\" points=\"992.151,-313.7262 991.2043,-303.1738 985.3637,-312.0133 992.151,-313.7262\"/>\n</g>\n<!-- occluderRedness -->\n<g id=\"node20\" class=\"node\">\n<title>occluderRedness</title>\n<polygon fill=\"none\" stroke=\"#000000\" points=\"889.4533,-413.8833 776.4533,-413.8833 776.4533,-360.8833 889.4533,-360.8833 889.4533,-413.8833\"/>\n<text text-anchor=\"middle\" x=\"832.9533\" y=\"-398.6833\" font-family=\"Times,serif\" font-size=\"14.00\" fill=\"#000000\">occluderRedness</text>\n<text text-anchor=\"middle\" x=\"832.9533\" y=\"-383.6833\" font-family=\"Times,serif\" font-size=\"14.00\" fill=\"#000000\">~</text>\n<text text-anchor=\"middle\" x=\"832.9533\" y=\"-368.6833\" font-family=\"Times,serif\" font-size=\"14.00\" fill=\"#000000\">Deterministic</text>\n</g>\n<!-- occluderRedness&#45;&gt;occluderColourBias -->\n<g id=\"edge22\" class=\"edge\">\n<title>occluderRedness&#45;&gt;occluderColourBias</title>\n<path fill=\"none\" stroke=\"#000000\" d=\"M872.4749,-360.8072C895.7575,-345.151 925.376,-325.2342 949.9897,-308.6828\"/>\n<polygon fill=\"#000000\" stroke=\"#000000\" points=\"952.1233,-311.4659 958.4686,-302.9813 948.2172,-305.657 952.1233,-311.4659\"/>\n</g>\n<!-- lavaPresence -->\n<g id=\"node21\" class=\"node\">\n<title>lavaPresence</title>\n<polygon fill=\"none\" stroke=\"#000000\" points=\"505.9533,-413.8833 413.9533,-413.8833 413.9533,-360.8833 505.9533,-360.8833 505.9533,-413.8833\"/>\n<text text-anchor=\"middle\" x=\"459.9533\" y=\"-398.6833\" font-family=\"Times,serif\" font-size=\"14.00\" fill=\"#000000\">lavaPresence</text>\n<text text-anchor=\"middle\" x=\"459.9533\" y=\"-383.6833\" font-family=\"Times,serif\" font-size=\"14.00\" fill=\"#000000\">~</text>\n<text text-anchor=\"middle\" x=\"459.9533\" y=\"-368.6833\" font-family=\"Times,serif\" font-size=\"14.00\" fill=\"#000000\">Deterministic</text>\n</g>\n<!-- lavaPresence&#45;&gt;lavaP -->\n<g id=\"edge9\" class=\"edge\">\n<title>lavaPresence&#45;&gt;lavaP</title>\n<path fill=\"none\" stroke=\"#000000\" d=\"M480.3129,-360.8072C491.689,-345.9576 506.0014,-327.2752 518.2652,-311.2669\"/>\n<polygon fill=\"#000000\" stroke=\"#000000\" points=\"521.1622,-313.2406 524.4652,-303.1738 515.6054,-308.9835 521.1622,-313.2406\"/>\n</g>\n<!-- platformP&#45;&gt;navP -->\n<g id=\"edge16\" class=\"edge\">\n<title>platformP&#45;&gt;navP</title>\n<path fill=\"none\" stroke=\"#000000\" d=\"M271.1423,-261.9993C328.8089,-243.9827 427.3709,-213.1893 489.1849,-193.8769\"/>\n<polygon fill=\"#000000\" stroke=\"#000000\" points=\"490.2771,-197.2026 498.7783,-190.8796 488.1896,-190.5211 490.2771,-197.2026\"/>\n</g>\n<!-- navP&#45;&gt;taskPerformance -->\n<g id=\"edge33\" class=\"edge\">\n<title>navP&#45;&gt;taskPerformance</title>\n<path fill=\"none\" stroke=\"#000000\" d=\"M591.3034,-166.2239C667.8564,-149.3287 821.6733,-115.3815 916.637,-94.4231\"/>\n<polygon fill=\"#000000\" stroke=\"#000000\" points=\"917.4812,-97.8211 926.4919,-92.2481 915.9726,-90.9856 917.4812,-97.8211\"/>\n</g>\n<!-- objPermP&#45;&gt;taskPerformance -->\n<g id=\"edge34\" class=\"edge\">\n<title>objPermP&#45;&gt;taskPerformance</title>\n<path fill=\"none\" stroke=\"#000000\" d=\"M997.9533,-149.9239C997.9533,-142.0239 997.9533,-133.113 997.9533,-124.2925\"/>\n<polygon fill=\"#000000\" stroke=\"#000000\" points=\"1001.4534,-124.0454 997.9533,-114.0454 994.4534,-124.0455 1001.4534,-124.0454\"/>\n</g>\n<!-- numPositions -->\n<g id=\"node25\" class=\"node\">\n<title>numPositions</title>\n<polygon fill=\"none\" stroke=\"#000000\" points=\"893.4533,-302.93 798.4533,-302.93 798.4533,-249.93 893.4533,-249.93 893.4533,-302.93\"/>\n<text text-anchor=\"middle\" x=\"845.9533\" y=\"-287.73\" font-family=\"Times,serif\" font-size=\"14.00\" fill=\"#000000\">numPositions</text>\n<text text-anchor=\"middle\" x=\"845.9533\" y=\"-272.73\" font-family=\"Times,serif\" font-size=\"14.00\" fill=\"#000000\">~</text>\n<text text-anchor=\"middle\" x=\"845.9533\" y=\"-257.73\" font-family=\"Times,serif\" font-size=\"14.00\" fill=\"#000000\">Deterministic</text>\n</g>\n<!-- numPositions&#45;&gt;objPermP -->\n<g id=\"edge27\" class=\"edge\">\n<title>numPositions&#45;&gt;objPermP</title>\n<path fill=\"none\" stroke=\"#000000\" d=\"M886.2875,-249.9005C905.5267,-237.2461 928.7095,-221.9978 948.9543,-208.682\"/>\n<polygon fill=\"#000000\" stroke=\"#000000\" points=\"950.9993,-211.5262 957.4307,-203.1067 947.1526,-205.6779 950.9993,-211.5262\"/>\n</g>\n<!-- rightLeftPosition -->\n<g id=\"node27\" class=\"node\">\n<title>rightLeftPosition</title>\n<polygon fill=\"none\" stroke=\"#000000\" points=\"631.9533,-524.8366 517.9533,-524.8366 517.9533,-471.8366 631.9533,-471.8366 631.9533,-524.8366\"/>\n<text text-anchor=\"middle\" x=\"574.9533\" y=\"-509.6366\" font-family=\"Times,serif\" font-size=\"14.00\" fill=\"#000000\">rightLeftPosition</text>\n<text text-anchor=\"middle\" x=\"574.9533\" y=\"-494.6366\" font-family=\"Times,serif\" font-size=\"14.00\" fill=\"#000000\">~</text>\n<text text-anchor=\"middle\" x=\"574.9533\" y=\"-479.6366\" font-family=\"Times,serif\" font-size=\"14.00\" fill=\"#000000\">Deterministic</text>\n</g>\n<!-- rightLeftPosition&#45;&gt;rightLeftEffect -->\n<g id=\"edge5\" class=\"edge\">\n<title>rightLeftPosition&#45;&gt;rightLeftEffect</title>\n<path fill=\"none\" stroke=\"#000000\" d=\"M574.9533,-471.7605C574.9533,-457.5921 574.9533,-439.9344 574.9533,-424.4394\"/>\n<polygon fill=\"#000000\" stroke=\"#000000\" points=\"578.4534,-424.127 574.9533,-414.1271 571.4534,-424.1271 578.4534,-424.127\"/>\n</g>\n<!-- rampPresence -->\n<g id=\"node28\" class=\"node\">\n<title>rampPresence</title>\n<polygon fill=\"none\" stroke=\"#000000\" points=\"395.4533,-413.8833 300.4533,-413.8833 300.4533,-360.8833 395.4533,-360.8833 395.4533,-413.8833\"/>\n<text text-anchor=\"middle\" x=\"347.9533\" y=\"-398.6833\" font-family=\"Times,serif\" font-size=\"14.00\" fill=\"#000000\">rampPresence</text>\n<text text-anchor=\"middle\" x=\"347.9533\" y=\"-383.6833\" font-family=\"Times,serif\" font-size=\"14.00\" fill=\"#000000\">~</text>\n<text text-anchor=\"middle\" x=\"347.9533\" y=\"-368.6833\" font-family=\"Times,serif\" font-size=\"14.00\" fill=\"#000000\">Deterministic</text>\n</g>\n<!-- rampPresence&#45;&gt;rampP -->\n<g id=\"edge11\" class=\"edge\">\n<title>rampPresence&#45;&gt;rampP</title>\n<path fill=\"none\" stroke=\"#000000\" d=\"M368.792,-360.8072C380.4357,-345.9576 395.0849,-327.2752 407.6373,-311.2669\"/>\n<polygon fill=\"#000000\" stroke=\"#000000\" points=\"410.567,-313.2027 413.9832,-303.1738 405.0584,-308.8834 410.567,-313.2027\"/>\n</g>\n<!-- goalSize -->\n<g id=\"node29\" class=\"node\">\n<title>goalSize</title>\n<polygon fill=\"none\" stroke=\"#000000\" points=\"1283.9533,-302.93 1191.9533,-302.93 1191.9533,-249.93 1283.9533,-249.93 1283.9533,-302.93\"/>\n<text text-anchor=\"middle\" x=\"1237.9533\" y=\"-287.73\" font-family=\"Times,serif\" font-size=\"14.00\" fill=\"#000000\">goalSize</text>\n<text text-anchor=\"middle\" x=\"1237.9533\" y=\"-272.73\" font-family=\"Times,serif\" font-size=\"14.00\" fill=\"#000000\">~</text>\n<text text-anchor=\"middle\" x=\"1237.9533\" y=\"-257.73\" font-family=\"Times,serif\" font-size=\"14.00\" fill=\"#000000\">Deterministic</text>\n</g>\n<!-- goalSize&#45;&gt;visualAcuityP -->\n<g id=\"edge2\" class=\"edge\">\n<title>goalSize&#45;&gt;visualAcuityP</title>\n<path fill=\"none\" stroke=\"#000000\" d=\"M1237.1573,-249.9005C1236.8216,-238.7149 1236.4251,-225.5027 1236.0617,-213.3898\"/>\n<polygon fill=\"#000000\" stroke=\"#000000\" points=\"1239.5516,-212.9972 1235.7531,-203.1067 1232.5547,-213.2072 1239.5516,-212.9972\"/>\n</g>\n<!-- occluderBlueness -->\n<g id=\"node30\" class=\"node\">\n<title>occluderBlueness</title>\n<polygon fill=\"none\" stroke=\"#000000\" points=\"1165.9533,-413.8833 1049.9533,-413.8833 1049.9533,-360.8833 1165.9533,-360.8833 1165.9533,-413.8833\"/>\n<text text-anchor=\"middle\" x=\"1107.9533\" y=\"-398.6833\" font-family=\"Times,serif\" font-size=\"14.00\" fill=\"#000000\">occluderBlueness</text>\n<text text-anchor=\"middle\" x=\"1107.9533\" y=\"-383.6833\" font-family=\"Times,serif\" font-size=\"14.00\" fill=\"#000000\">~</text>\n<text text-anchor=\"middle\" x=\"1107.9533\" y=\"-368.6833\" font-family=\"Times,serif\" font-size=\"14.00\" fill=\"#000000\">Deterministic</text>\n</g>\n<!-- occluderBlueness&#45;&gt;occluderColourBias -->\n<g id=\"edge19\" class=\"edge\">\n<title>occluderBlueness&#45;&gt;occluderColourBias</title>\n<path fill=\"none\" stroke=\"#000000\" d=\"M1081.6056,-360.8072C1066.6135,-345.6852 1047.6807,-326.5883 1031.62,-310.3884\"/>\n<polygon fill=\"#000000\" stroke=\"#000000\" points=\"1033.9934,-307.8111 1024.4673,-303.1738 1029.0223,-312.7395 1033.9934,-307.8111\"/>\n</g>\n<!-- occluderPresence -->\n<g id=\"node31\" class=\"node\">\n<title>occluderPresence</title>\n<polygon fill=\"none\" stroke=\"#000000\" points=\"758.4533,-413.8833 643.4533,-413.8833 643.4533,-360.8833 758.4533,-360.8833 758.4533,-413.8833\"/>\n<text text-anchor=\"middle\" x=\"700.9533\" y=\"-398.6833\" font-family=\"Times,serif\" font-size=\"14.00\" fill=\"#000000\">occluderPresence</text>\n<text text-anchor=\"middle\" x=\"700.9533\" y=\"-383.6833\" font-family=\"Times,serif\" font-size=\"14.00\" fill=\"#000000\">~</text>\n<text text-anchor=\"middle\" x=\"700.9533\" y=\"-368.6833\" font-family=\"Times,serif\" font-size=\"14.00\" fill=\"#000000\">Deterministic</text>\n</g>\n<!-- occluderPresence&#45;&gt;occluderColourBias -->\n<g id=\"edge23\" class=\"edge\">\n<title>occluderPresence&#45;&gt;occluderColourBias</title>\n<path fill=\"none\" stroke=\"#000000\" d=\"M744.4435,-360.8128C752.1046,-356.7872 760.1334,-352.9647 767.9533,-349.9066 831.8046,-324.9374 853.2459,-336.5649 917.9533,-313.9066 923.8431,-311.8443 929.8815,-309.4908 935.8725,-306.9908\"/>\n<polygon fill=\"#000000\" stroke=\"#000000\" points=\"937.4215,-310.1345 945.2198,-302.9625 934.6511,-303.7061 937.4215,-310.1345\"/>\n</g>\n<!-- occluderPresence&#45;&gt;objPermP -->\n<g id=\"edge31\" class=\"edge\">\n<title>occluderPresence&#45;&gt;objPermP</title>\n<path fill=\"none\" stroke=\"#000000\" d=\"M744.8746,-360.787C752.4175,-356.8118 760.2958,-353.0123 767.9533,-349.9066 825.4975,-326.5684 858.7693,-357.5388 902.9533,-313.9066 927.5692,-289.5982 905.2464,-268.0547 923.9533,-238.9533 930.9131,-228.1263 940.3261,-218.1865 950.1031,-209.5714\"/>\n<polygon fill=\"#000000\" stroke=\"#000000\" points=\"952.5753,-212.0658 957.9823,-202.9545 948.0736,-206.7053 952.5753,-212.0658\"/>\n</g>\n<!-- rightLeftEffect&#45;&gt;flatNavP -->\n<g id=\"edge6\" class=\"edge\">\n<title>rightLeftEffect&#45;&gt;flatNavP</title>\n<path fill=\"none\" stroke=\"#000000\" d=\"M594.1153,-360.8072C604.724,-346.0939 618.0458,-327.6176 629.5169,-311.7081\"/>\n<polygon fill=\"#000000\" stroke=\"#000000\" points=\"632.6609,-313.3322 635.6704,-303.1738 626.9829,-309.2382 632.6609,-313.3322\"/>\n</g>\n<!-- timeUnderOcc -->\n<g id=\"node33\" class=\"node\">\n<title>timeUnderOcc</title>\n<polygon fill=\"none\" stroke=\"#000000\" points=\"1283.9533,-413.8833 1183.9533,-413.8833 1183.9533,-360.8833 1283.9533,-360.8833 1283.9533,-413.8833\"/>\n<text text-anchor=\"middle\" x=\"1233.9533\" y=\"-398.6833\" font-family=\"Times,serif\" font-size=\"14.00\" fill=\"#000000\">timeUnderOcc</text>\n<text text-anchor=\"middle\" x=\"1233.9533\" y=\"-383.6833\" font-family=\"Times,serif\" font-size=\"14.00\" fill=\"#000000\">~</text>\n<text text-anchor=\"middle\" x=\"1233.9533\" y=\"-368.6833\" font-family=\"Times,serif\" font-size=\"14.00\" fill=\"#000000\">Deterministic</text>\n</g>\n<!-- timeUnderOcc&#45;&gt;memoryP -->\n<g id=\"edge25\" class=\"edge\">\n<title>timeUnderOcc&#45;&gt;memoryP</title>\n<path fill=\"none\" stroke=\"#000000\" d=\"M1208.5637,-360.8072C1194.2469,-345.8214 1176.2008,-326.932 1160.8147,-310.8269\"/>\n<polygon fill=\"#000000\" stroke=\"#000000\" points=\"1162.9418,-307.9867 1153.5032,-303.1738 1157.8803,-312.8222 1162.9418,-307.9867\"/>\n</g>\n</g>\n</svg>\n"
          },
          "metadata": {},
          "execution_count": 14
        }
      ]
    },
    {
      "cell_type": "code",
      "source": [
        "print(len)"
      ],
      "metadata": {
        "colab": {
          "base_uri": "https://localhost:8080/"
        },
        "id": "QMzfiU_iNEmL",
        "outputId": "c4e2b0f1-6ec3-4fcb-8c64-0bc712b363c1"
      },
      "execution_count": null,
      "outputs": [
        {
          "output_type": "stream",
          "name": "stdout",
          "text": [
            "<built-in function len>\n"
          ]
        }
      ]
    },
    {
      "cell_type": "code",
      "source": [
        "##### Sample results for each agent using the model defined in the function above.\n",
        "allAgentData = [] #blank list for entering the outputs of the pm sampling for each agent\n",
        "agentNames = [] #blank list for the agent names\n",
        "agentColList = agentCols.tolist()\n",
        "print(agentColList)\n",
        "numAgents = len(agentColList) #Number of agents, replace with a small number for testing to save time\n",
        "print(numAgents)\n",
        "for i in range(numAgents): # Iterate through each agent. \n",
        "  agent = agentCols[i] #Get the agent name\n",
        "  taskResults = df[agent] #Grab the column of results for that agent\n",
        "  print(agent) \n",
        "  print(np.mean(taskResults)) #print mean performance for the agent across all tasks\n",
        "  m = SetupModel(taskResults) #Define the model using the setupModel function. Needs to be redefined each run after taskResults are updated or PyMC won't use the latest taskResults\n",
        "  \n",
        "  #Now sample based on this agent's performance\n",
        "  with m: \n",
        "    agentData = pm.sample(1000) #Might need more samples to converge\n",
        "  \n",
        "  #Now add results to lists\n",
        "  agentNames.append(agent)\n",
        "  allAgentData.append(agentData)\n",
        "  \n",
        "#now combine names and data into one dataframe\n",
        "fullData = pd.DataFrame(\n",
        "    {'agentName': agentNames,\n",
        "     'agentData': allAgentData,\n",
        "    })\n",
        "\n",
        "print(fullData)\n"
      ],
      "metadata": {
        "id": "xrGX2anmoZN8",
        "colab": {
          "base_uri": "https://localhost:8080/",
          "height": 1000
        },
        "outputId": "474e1732-0bca-4e75-ccb5-acb29a1d29b7"
      },
      "execution_count": null,
      "outputs": [
        {
          "output_type": "stream",
          "name": "stdout",
          "text": [
            "['perfectAgent', 'worstAgent', 'perfectAgentWhenNoLava', 'perfectAgentTimeBelowThree', 'perfectAgentTimeBelowTwo', 'perfectAgentPositionsBelowTen', 'AgentNoObjPerm', 'AgentNoObjPermOrLava', 'AgentNoObjPermOrRamp']\n",
            "9\n",
            "perfectAgent\n",
            "1.0\n"
          ]
        },
        {
          "output_type": "display_data",
          "data": {
            "text/plain": [
              "<IPython.core.display.HTML object>"
            ],
            "text/html": [
              "\n",
              "<style>\n",
              "    /* Turns off some styling */\n",
              "    progress {\n",
              "        /* gets rid of default border in Firefox and Opera. */\n",
              "        border: none;\n",
              "        /* Needs to be in here for Safari polyfill so background images work as expected. */\n",
              "        background-size: auto;\n",
              "    }\n",
              "    progress:not([value]), progress:not([value])::-webkit-progress-bar {\n",
              "        background: repeating-linear-gradient(45deg, #7e7e7e, #7e7e7e 10px, #5c5c5c 10px, #5c5c5c 20px);\n",
              "    }\n",
              "    .progress-bar-interrupted, .progress-bar-interrupted::-webkit-progress-bar {\n",
              "        background: #F44336;\n",
              "    }\n",
              "</style>\n"
            ]
          },
          "metadata": {}
        },
        {
          "output_type": "display_data",
          "data": {
            "text/plain": [
              "<IPython.core.display.HTML object>"
            ],
            "text/html": [
              "\n",
              "    <div>\n",
              "      <progress value='2000' class='' max='2000' style='width:300px; height:20px; vertical-align: middle;'></progress>\n",
              "      100.00% [2000/2000 00:37&lt;00:00 Sampling chain 0, 11 divergences]\n",
              "    </div>\n",
              "    "
            ]
          },
          "metadata": {}
        },
        {
          "output_type": "display_data",
          "data": {
            "text/plain": [
              "<IPython.core.display.HTML object>"
            ],
            "text/html": [
              "\n",
              "<style>\n",
              "    /* Turns off some styling */\n",
              "    progress {\n",
              "        /* gets rid of default border in Firefox and Opera. */\n",
              "        border: none;\n",
              "        /* Needs to be in here for Safari polyfill so background images work as expected. */\n",
              "        background-size: auto;\n",
              "    }\n",
              "    progress:not([value]), progress:not([value])::-webkit-progress-bar {\n",
              "        background: repeating-linear-gradient(45deg, #7e7e7e, #7e7e7e 10px, #5c5c5c 10px, #5c5c5c 20px);\n",
              "    }\n",
              "    .progress-bar-interrupted, .progress-bar-interrupted::-webkit-progress-bar {\n",
              "        background: #F44336;\n",
              "    }\n",
              "</style>\n"
            ]
          },
          "metadata": {}
        },
        {
          "output_type": "display_data",
          "data": {
            "text/plain": [
              "<IPython.core.display.HTML object>"
            ],
            "text/html": [
              "\n",
              "    <div>\n",
              "      <progress value='2000' class='' max='2000' style='width:300px; height:20px; vertical-align: middle;'></progress>\n",
              "      100.00% [2000/2000 00:30&lt;00:00 Sampling chain 1, 6 divergences]\n",
              "    </div>\n",
              "    "
            ]
          },
          "metadata": {}
        },
        {
          "output_type": "stream",
          "name": "stderr",
          "text": [
            "ERROR:pymc:There were 11 divergences after tuning. Increase `target_accept` or reparameterize.\n",
            "ERROR:pymc:There were 17 divergences after tuning. Increase `target_accept` or reparameterize.\n"
          ]
        },
        {
          "output_type": "stream",
          "name": "stdout",
          "text": [
            "worstAgent\n",
            "0.0\n"
          ]
        },
        {
          "output_type": "display_data",
          "data": {
            "text/plain": [
              "<IPython.core.display.HTML object>"
            ],
            "text/html": [
              "\n",
              "<style>\n",
              "    /* Turns off some styling */\n",
              "    progress {\n",
              "        /* gets rid of default border in Firefox and Opera. */\n",
              "        border: none;\n",
              "        /* Needs to be in here for Safari polyfill so background images work as expected. */\n",
              "        background-size: auto;\n",
              "    }\n",
              "    progress:not([value]), progress:not([value])::-webkit-progress-bar {\n",
              "        background: repeating-linear-gradient(45deg, #7e7e7e, #7e7e7e 10px, #5c5c5c 10px, #5c5c5c 20px);\n",
              "    }\n",
              "    .progress-bar-interrupted, .progress-bar-interrupted::-webkit-progress-bar {\n",
              "        background: #F44336;\n",
              "    }\n",
              "</style>\n"
            ]
          },
          "metadata": {}
        },
        {
          "output_type": "display_data",
          "data": {
            "text/plain": [
              "<IPython.core.display.HTML object>"
            ],
            "text/html": [
              "\n",
              "    <div>\n",
              "      <progress value='2000' class='' max='2000' style='width:300px; height:20px; vertical-align: middle;'></progress>\n",
              "      100.00% [2000/2000 00:22&lt;00:00 Sampling chain 0, 0 divergences]\n",
              "    </div>\n",
              "    "
            ]
          },
          "metadata": {}
        },
        {
          "output_type": "display_data",
          "data": {
            "text/plain": [
              "<IPython.core.display.HTML object>"
            ],
            "text/html": [
              "\n",
              "<style>\n",
              "    /* Turns off some styling */\n",
              "    progress {\n",
              "        /* gets rid of default border in Firefox and Opera. */\n",
              "        border: none;\n",
              "        /* Needs to be in here for Safari polyfill so background images work as expected. */\n",
              "        background-size: auto;\n",
              "    }\n",
              "    progress:not([value]), progress:not([value])::-webkit-progress-bar {\n",
              "        background: repeating-linear-gradient(45deg, #7e7e7e, #7e7e7e 10px, #5c5c5c 10px, #5c5c5c 20px);\n",
              "    }\n",
              "    .progress-bar-interrupted, .progress-bar-interrupted::-webkit-progress-bar {\n",
              "        background: #F44336;\n",
              "    }\n",
              "</style>\n"
            ]
          },
          "metadata": {}
        },
        {
          "output_type": "display_data",
          "data": {
            "text/plain": [
              "<IPython.core.display.HTML object>"
            ],
            "text/html": [
              "\n",
              "    <div>\n",
              "      <progress value='2000' class='' max='2000' style='width:300px; height:20px; vertical-align: middle;'></progress>\n",
              "      100.00% [2000/2000 00:22&lt;00:00 Sampling chain 1, 0 divergences]\n",
              "    </div>\n",
              "    "
            ]
          },
          "metadata": {}
        },
        {
          "output_type": "stream",
          "name": "stdout",
          "text": [
            "perfectAgentWhenNoLava\n",
            "0.7279411764705882\n"
          ]
        },
        {
          "output_type": "display_data",
          "data": {
            "text/plain": [
              "<IPython.core.display.HTML object>"
            ],
            "text/html": [
              "\n",
              "<style>\n",
              "    /* Turns off some styling */\n",
              "    progress {\n",
              "        /* gets rid of default border in Firefox and Opera. */\n",
              "        border: none;\n",
              "        /* Needs to be in here for Safari polyfill so background images work as expected. */\n",
              "        background-size: auto;\n",
              "    }\n",
              "    progress:not([value]), progress:not([value])::-webkit-progress-bar {\n",
              "        background: repeating-linear-gradient(45deg, #7e7e7e, #7e7e7e 10px, #5c5c5c 10px, #5c5c5c 20px);\n",
              "    }\n",
              "    .progress-bar-interrupted, .progress-bar-interrupted::-webkit-progress-bar {\n",
              "        background: #F44336;\n",
              "    }\n",
              "</style>\n"
            ]
          },
          "metadata": {}
        },
        {
          "output_type": "display_data",
          "data": {
            "text/plain": [
              "<IPython.core.display.HTML object>"
            ],
            "text/html": [
              "\n",
              "    <div>\n",
              "      <progress value='2000' class='' max='2000' style='width:300px; height:20px; vertical-align: middle;'></progress>\n",
              "      100.00% [2000/2000 00:35&lt;00:00 Sampling chain 0, 7 divergences]\n",
              "    </div>\n",
              "    "
            ]
          },
          "metadata": {}
        },
        {
          "output_type": "display_data",
          "data": {
            "text/plain": [
              "<IPython.core.display.HTML object>"
            ],
            "text/html": [
              "\n",
              "<style>\n",
              "    /* Turns off some styling */\n",
              "    progress {\n",
              "        /* gets rid of default border in Firefox and Opera. */\n",
              "        border: none;\n",
              "        /* Needs to be in here for Safari polyfill so background images work as expected. */\n",
              "        background-size: auto;\n",
              "    }\n",
              "    progress:not([value]), progress:not([value])::-webkit-progress-bar {\n",
              "        background: repeating-linear-gradient(45deg, #7e7e7e, #7e7e7e 10px, #5c5c5c 10px, #5c5c5c 20px);\n",
              "    }\n",
              "    .progress-bar-interrupted, .progress-bar-interrupted::-webkit-progress-bar {\n",
              "        background: #F44336;\n",
              "    }\n",
              "</style>\n"
            ]
          },
          "metadata": {}
        },
        {
          "output_type": "display_data",
          "data": {
            "text/plain": [
              "<IPython.core.display.HTML object>"
            ],
            "text/html": [
              "\n",
              "    <div>\n",
              "      <progress value='2000' class='' max='2000' style='width:300px; height:20px; vertical-align: middle;'></progress>\n",
              "      100.00% [2000/2000 00:36&lt;00:00 Sampling chain 1, 10 divergences]\n",
              "    </div>\n",
              "    "
            ]
          },
          "metadata": {}
        },
        {
          "output_type": "stream",
          "name": "stderr",
          "text": [
            "ERROR:pymc:There were 7 divergences after tuning. Increase `target_accept` or reparameterize.\n",
            "ERROR:pymc:There were 17 divergences after tuning. Increase `target_accept` or reparameterize.\n"
          ]
        },
        {
          "output_type": "stream",
          "name": "stdout",
          "text": [
            "perfectAgentTimeBelowThree\n",
            "0.8088235294117647\n"
          ]
        },
        {
          "output_type": "display_data",
          "data": {
            "text/plain": [
              "<IPython.core.display.HTML object>"
            ],
            "text/html": [
              "\n",
              "<style>\n",
              "    /* Turns off some styling */\n",
              "    progress {\n",
              "        /* gets rid of default border in Firefox and Opera. */\n",
              "        border: none;\n",
              "        /* Needs to be in here for Safari polyfill so background images work as expected. */\n",
              "        background-size: auto;\n",
              "    }\n",
              "    progress:not([value]), progress:not([value])::-webkit-progress-bar {\n",
              "        background: repeating-linear-gradient(45deg, #7e7e7e, #7e7e7e 10px, #5c5c5c 10px, #5c5c5c 20px);\n",
              "    }\n",
              "    .progress-bar-interrupted, .progress-bar-interrupted::-webkit-progress-bar {\n",
              "        background: #F44336;\n",
              "    }\n",
              "</style>\n"
            ]
          },
          "metadata": {}
        },
        {
          "output_type": "display_data",
          "data": {
            "text/plain": [
              "<IPython.core.display.HTML object>"
            ],
            "text/html": [
              "\n",
              "    <div>\n",
              "      <progress value='2000' class='' max='2000' style='width:300px; height:20px; vertical-align: middle;'></progress>\n",
              "      100.00% [2000/2000 00:50&lt;00:00 Sampling chain 0, 0 divergences]\n",
              "    </div>\n",
              "    "
            ]
          },
          "metadata": {}
        },
        {
          "output_type": "display_data",
          "data": {
            "text/plain": [
              "<IPython.core.display.HTML object>"
            ],
            "text/html": [
              "\n",
              "<style>\n",
              "    /* Turns off some styling */\n",
              "    progress {\n",
              "        /* gets rid of default border in Firefox and Opera. */\n",
              "        border: none;\n",
              "        /* Needs to be in here for Safari polyfill so background images work as expected. */\n",
              "        background-size: auto;\n",
              "    }\n",
              "    progress:not([value]), progress:not([value])::-webkit-progress-bar {\n",
              "        background: repeating-linear-gradient(45deg, #7e7e7e, #7e7e7e 10px, #5c5c5c 10px, #5c5c5c 20px);\n",
              "    }\n",
              "    .progress-bar-interrupted, .progress-bar-interrupted::-webkit-progress-bar {\n",
              "        background: #F44336;\n",
              "    }\n",
              "</style>\n"
            ]
          },
          "metadata": {}
        },
        {
          "output_type": "display_data",
          "data": {
            "text/plain": [
              "<IPython.core.display.HTML object>"
            ],
            "text/html": [
              "\n",
              "    <div>\n",
              "      <progress value='2000' class='' max='2000' style='width:300px; height:20px; vertical-align: middle;'></progress>\n",
              "      100.00% [2000/2000 00:48&lt;00:00 Sampling chain 1, 1 divergences]\n",
              "    </div>\n",
              "    "
            ]
          },
          "metadata": {}
        },
        {
          "output_type": "stream",
          "name": "stderr",
          "text": [
            "ERROR:pymc:There was 1 divergence after tuning. Increase `target_accept` or reparameterize.\n"
          ]
        },
        {
          "output_type": "stream",
          "name": "stdout",
          "text": [
            "perfectAgentTimeBelowTwo\n",
            "0.7696078431372549\n"
          ]
        },
        {
          "output_type": "display_data",
          "data": {
            "text/plain": [
              "<IPython.core.display.HTML object>"
            ],
            "text/html": [
              "\n",
              "<style>\n",
              "    /* Turns off some styling */\n",
              "    progress {\n",
              "        /* gets rid of default border in Firefox and Opera. */\n",
              "        border: none;\n",
              "        /* Needs to be in here for Safari polyfill so background images work as expected. */\n",
              "        background-size: auto;\n",
              "    }\n",
              "    progress:not([value]), progress:not([value])::-webkit-progress-bar {\n",
              "        background: repeating-linear-gradient(45deg, #7e7e7e, #7e7e7e 10px, #5c5c5c 10px, #5c5c5c 20px);\n",
              "    }\n",
              "    .progress-bar-interrupted, .progress-bar-interrupted::-webkit-progress-bar {\n",
              "        background: #F44336;\n",
              "    }\n",
              "</style>\n"
            ]
          },
          "metadata": {}
        },
        {
          "output_type": "display_data",
          "data": {
            "text/plain": [
              "<IPython.core.display.HTML object>"
            ],
            "text/html": [
              "\n",
              "    <div>\n",
              "      <progress value='2000' class='' max='2000' style='width:300px; height:20px; vertical-align: middle;'></progress>\n",
              "      100.00% [2000/2000 00:43&lt;00:00 Sampling chain 0, 0 divergences]\n",
              "    </div>\n",
              "    "
            ]
          },
          "metadata": {}
        },
        {
          "output_type": "display_data",
          "data": {
            "text/plain": [
              "<IPython.core.display.HTML object>"
            ],
            "text/html": [
              "\n",
              "<style>\n",
              "    /* Turns off some styling */\n",
              "    progress {\n",
              "        /* gets rid of default border in Firefox and Opera. */\n",
              "        border: none;\n",
              "        /* Needs to be in here for Safari polyfill so background images work as expected. */\n",
              "        background-size: auto;\n",
              "    }\n",
              "    progress:not([value]), progress:not([value])::-webkit-progress-bar {\n",
              "        background: repeating-linear-gradient(45deg, #7e7e7e, #7e7e7e 10px, #5c5c5c 10px, #5c5c5c 20px);\n",
              "    }\n",
              "    .progress-bar-interrupted, .progress-bar-interrupted::-webkit-progress-bar {\n",
              "        background: #F44336;\n",
              "    }\n",
              "</style>\n"
            ]
          },
          "metadata": {}
        },
        {
          "output_type": "display_data",
          "data": {
            "text/plain": [
              "<IPython.core.display.HTML object>"
            ],
            "text/html": [
              "\n",
              "    <div>\n",
              "      <progress value='2000' class='' max='2000' style='width:300px; height:20px; vertical-align: middle;'></progress>\n",
              "      100.00% [2000/2000 00:42&lt;00:00 Sampling chain 1, 0 divergences]\n",
              "    </div>\n",
              "    "
            ]
          },
          "metadata": {}
        },
        {
          "output_type": "stream",
          "name": "stdout",
          "text": [
            "perfectAgentPositionsBelowTen\n",
            "0.2769607843137255\n"
          ]
        },
        {
          "output_type": "display_data",
          "data": {
            "text/plain": [
              "<IPython.core.display.HTML object>"
            ],
            "text/html": [
              "\n",
              "<style>\n",
              "    /* Turns off some styling */\n",
              "    progress {\n",
              "        /* gets rid of default border in Firefox and Opera. */\n",
              "        border: none;\n",
              "        /* Needs to be in here for Safari polyfill so background images work as expected. */\n",
              "        background-size: auto;\n",
              "    }\n",
              "    progress:not([value]), progress:not([value])::-webkit-progress-bar {\n",
              "        background: repeating-linear-gradient(45deg, #7e7e7e, #7e7e7e 10px, #5c5c5c 10px, #5c5c5c 20px);\n",
              "    }\n",
              "    .progress-bar-interrupted, .progress-bar-interrupted::-webkit-progress-bar {\n",
              "        background: #F44336;\n",
              "    }\n",
              "</style>\n"
            ]
          },
          "metadata": {}
        },
        {
          "output_type": "display_data",
          "data": {
            "text/plain": [
              "<IPython.core.display.HTML object>"
            ],
            "text/html": [
              "\n",
              "    <div>\n",
              "      <progress value='2000' class='' max='2000' style='width:300px; height:20px; vertical-align: middle;'></progress>\n",
              "      100.00% [2000/2000 01:19&lt;00:00 Sampling chain 0, 0 divergences]\n",
              "    </div>\n",
              "    "
            ]
          },
          "metadata": {}
        },
        {
          "output_type": "display_data",
          "data": {
            "text/plain": [
              "<IPython.core.display.HTML object>"
            ],
            "text/html": [
              "\n",
              "<style>\n",
              "    /* Turns off some styling */\n",
              "    progress {\n",
              "        /* gets rid of default border in Firefox and Opera. */\n",
              "        border: none;\n",
              "        /* Needs to be in here for Safari polyfill so background images work as expected. */\n",
              "        background-size: auto;\n",
              "    }\n",
              "    progress:not([value]), progress:not([value])::-webkit-progress-bar {\n",
              "        background: repeating-linear-gradient(45deg, #7e7e7e, #7e7e7e 10px, #5c5c5c 10px, #5c5c5c 20px);\n",
              "    }\n",
              "    .progress-bar-interrupted, .progress-bar-interrupted::-webkit-progress-bar {\n",
              "        background: #F44336;\n",
              "    }\n",
              "</style>\n"
            ]
          },
          "metadata": {}
        },
        {
          "output_type": "display_data",
          "data": {
            "text/plain": [
              "<IPython.core.display.HTML object>"
            ],
            "text/html": [
              "\n",
              "    <div>\n",
              "      <progress value='2000' class='' max='2000' style='width:300px; height:20px; vertical-align: middle;'></progress>\n",
              "      100.00% [2000/2000 01:18&lt;00:00 Sampling chain 1, 0 divergences]\n",
              "    </div>\n",
              "    "
            ]
          },
          "metadata": {}
        },
        {
          "output_type": "stream",
          "name": "stdout",
          "text": [
            "AgentNoObjPerm\n",
            "0.0\n"
          ]
        },
        {
          "output_type": "display_data",
          "data": {
            "text/plain": [
              "<IPython.core.display.HTML object>"
            ],
            "text/html": [
              "\n",
              "<style>\n",
              "    /* Turns off some styling */\n",
              "    progress {\n",
              "        /* gets rid of default border in Firefox and Opera. */\n",
              "        border: none;\n",
              "        /* Needs to be in here for Safari polyfill so background images work as expected. */\n",
              "        background-size: auto;\n",
              "    }\n",
              "    progress:not([value]), progress:not([value])::-webkit-progress-bar {\n",
              "        background: repeating-linear-gradient(45deg, #7e7e7e, #7e7e7e 10px, #5c5c5c 10px, #5c5c5c 20px);\n",
              "    }\n",
              "    .progress-bar-interrupted, .progress-bar-interrupted::-webkit-progress-bar {\n",
              "        background: #F44336;\n",
              "    }\n",
              "</style>\n"
            ]
          },
          "metadata": {}
        },
        {
          "output_type": "display_data",
          "data": {
            "text/plain": [
              "<IPython.core.display.HTML object>"
            ],
            "text/html": [
              "\n",
              "    <div>\n",
              "      <progress value='2000' class='' max='2000' style='width:300px; height:20px; vertical-align: middle;'></progress>\n",
              "      100.00% [2000/2000 00:22&lt;00:00 Sampling chain 0, 0 divergences]\n",
              "    </div>\n",
              "    "
            ]
          },
          "metadata": {}
        },
        {
          "output_type": "display_data",
          "data": {
            "text/plain": [
              "<IPython.core.display.HTML object>"
            ],
            "text/html": [
              "\n",
              "<style>\n",
              "    /* Turns off some styling */\n",
              "    progress {\n",
              "        /* gets rid of default border in Firefox and Opera. */\n",
              "        border: none;\n",
              "        /* Needs to be in here for Safari polyfill so background images work as expected. */\n",
              "        background-size: auto;\n",
              "    }\n",
              "    progress:not([value]), progress:not([value])::-webkit-progress-bar {\n",
              "        background: repeating-linear-gradient(45deg, #7e7e7e, #7e7e7e 10px, #5c5c5c 10px, #5c5c5c 20px);\n",
              "    }\n",
              "    .progress-bar-interrupted, .progress-bar-interrupted::-webkit-progress-bar {\n",
              "        background: #F44336;\n",
              "    }\n",
              "</style>\n"
            ]
          },
          "metadata": {}
        },
        {
          "output_type": "display_data",
          "data": {
            "text/plain": [
              "<IPython.core.display.HTML object>"
            ],
            "text/html": [
              "\n",
              "    <div>\n",
              "      <progress value='2000' class='' max='2000' style='width:300px; height:20px; vertical-align: middle;'></progress>\n",
              "      100.00% [2000/2000 00:25&lt;00:00 Sampling chain 1, 0 divergences]\n",
              "    </div>\n",
              "    "
            ]
          },
          "metadata": {}
        },
        {
          "output_type": "stream",
          "name": "stdout",
          "text": [
            "AgentNoObjPermOrLava\n",
            "0.5\n"
          ]
        },
        {
          "output_type": "display_data",
          "data": {
            "text/plain": [
              "<IPython.core.display.HTML object>"
            ],
            "text/html": [
              "\n",
              "<style>\n",
              "    /* Turns off some styling */\n",
              "    progress {\n",
              "        /* gets rid of default border in Firefox and Opera. */\n",
              "        border: none;\n",
              "        /* Needs to be in here for Safari polyfill so background images work as expected. */\n",
              "        background-size: auto;\n",
              "    }\n",
              "    progress:not([value]), progress:not([value])::-webkit-progress-bar {\n",
              "        background: repeating-linear-gradient(45deg, #7e7e7e, #7e7e7e 10px, #5c5c5c 10px, #5c5c5c 20px);\n",
              "    }\n",
              "    .progress-bar-interrupted, .progress-bar-interrupted::-webkit-progress-bar {\n",
              "        background: #F44336;\n",
              "    }\n",
              "</style>\n"
            ]
          },
          "metadata": {}
        },
        {
          "output_type": "display_data",
          "data": {
            "text/plain": [
              "<IPython.core.display.HTML object>"
            ],
            "text/html": [
              "\n",
              "    <div>\n",
              "      <progress value='2000' class='' max='2000' style='width:300px; height:20px; vertical-align: middle;'></progress>\n",
              "      100.00% [2000/2000 00:44&lt;00:00 Sampling chain 0, 0 divergences]\n",
              "    </div>\n",
              "    "
            ]
          },
          "metadata": {}
        },
        {
          "output_type": "display_data",
          "data": {
            "text/plain": [
              "<IPython.core.display.HTML object>"
            ],
            "text/html": [
              "\n",
              "<style>\n",
              "    /* Turns off some styling */\n",
              "    progress {\n",
              "        /* gets rid of default border in Firefox and Opera. */\n",
              "        border: none;\n",
              "        /* Needs to be in here for Safari polyfill so background images work as expected. */\n",
              "        background-size: auto;\n",
              "    }\n",
              "    progress:not([value]), progress:not([value])::-webkit-progress-bar {\n",
              "        background: repeating-linear-gradient(45deg, #7e7e7e, #7e7e7e 10px, #5c5c5c 10px, #5c5c5c 20px);\n",
              "    }\n",
              "    .progress-bar-interrupted, .progress-bar-interrupted::-webkit-progress-bar {\n",
              "        background: #F44336;\n",
              "    }\n",
              "</style>\n"
            ]
          },
          "metadata": {}
        },
        {
          "output_type": "display_data",
          "data": {
            "text/plain": [
              "<IPython.core.display.HTML object>"
            ],
            "text/html": [
              "\n",
              "    <div>\n",
              "      <progress value='2000' class='' max='2000' style='width:300px; height:20px; vertical-align: middle;'></progress>\n",
              "      100.00% [2000/2000 00:38&lt;00:00 Sampling chain 1, 12 divergences]\n",
              "    </div>\n",
              "    "
            ]
          },
          "metadata": {}
        },
        {
          "output_type": "stream",
          "name": "stderr",
          "text": [
            "ERROR:pymc:There were 12 divergences after tuning. Increase `target_accept` or reparameterize.\n"
          ]
        },
        {
          "output_type": "stream",
          "name": "stdout",
          "text": [
            "AgentNoObjPermOrRamp\n",
            "0.6397058823529411\n"
          ]
        },
        {
          "output_type": "display_data",
          "data": {
            "text/plain": [
              "<IPython.core.display.HTML object>"
            ],
            "text/html": [
              "\n",
              "<style>\n",
              "    /* Turns off some styling */\n",
              "    progress {\n",
              "        /* gets rid of default border in Firefox and Opera. */\n",
              "        border: none;\n",
              "        /* Needs to be in here for Safari polyfill so background images work as expected. */\n",
              "        background-size: auto;\n",
              "    }\n",
              "    progress:not([value]), progress:not([value])::-webkit-progress-bar {\n",
              "        background: repeating-linear-gradient(45deg, #7e7e7e, #7e7e7e 10px, #5c5c5c 10px, #5c5c5c 20px);\n",
              "    }\n",
              "    .progress-bar-interrupted, .progress-bar-interrupted::-webkit-progress-bar {\n",
              "        background: #F44336;\n",
              "    }\n",
              "</style>\n"
            ]
          },
          "metadata": {}
        },
        {
          "output_type": "display_data",
          "data": {
            "text/plain": [
              "<IPython.core.display.HTML object>"
            ],
            "text/html": [
              "\n",
              "    <div>\n",
              "      <progress value='2000' class='' max='2000' style='width:300px; height:20px; vertical-align: middle;'></progress>\n",
              "      100.00% [2000/2000 00:35&lt;00:00 Sampling chain 0, 0 divergences]\n",
              "    </div>\n",
              "    "
            ]
          },
          "metadata": {}
        },
        {
          "output_type": "display_data",
          "data": {
            "text/plain": [
              "<IPython.core.display.HTML object>"
            ],
            "text/html": [
              "\n",
              "<style>\n",
              "    /* Turns off some styling */\n",
              "    progress {\n",
              "        /* gets rid of default border in Firefox and Opera. */\n",
              "        border: none;\n",
              "        /* Needs to be in here for Safari polyfill so background images work as expected. */\n",
              "        background-size: auto;\n",
              "    }\n",
              "    progress:not([value]), progress:not([value])::-webkit-progress-bar {\n",
              "        background: repeating-linear-gradient(45deg, #7e7e7e, #7e7e7e 10px, #5c5c5c 10px, #5c5c5c 20px);\n",
              "    }\n",
              "    .progress-bar-interrupted, .progress-bar-interrupted::-webkit-progress-bar {\n",
              "        background: #F44336;\n",
              "    }\n",
              "</style>\n"
            ]
          },
          "metadata": {}
        },
        {
          "output_type": "display_data",
          "data": {
            "text/plain": [
              "<IPython.core.display.HTML object>"
            ],
            "text/html": [
              "\n",
              "    <div>\n",
              "      <progress value='2000' class='' max='2000' style='width:300px; height:20px; vertical-align: middle;'></progress>\n",
              "      100.00% [2000/2000 00:28&lt;00:00 Sampling chain 1, 1 divergences]\n",
              "    </div>\n",
              "    "
            ]
          },
          "metadata": {}
        },
        {
          "output_type": "stream",
          "name": "stderr",
          "text": [
            "WARNING:pymc:The acceptance probability does not match the target. It is 0.9068, but should be close to 0.8. Try to increase the number of tuning steps.\n",
            "ERROR:pymc:There was 1 divergence after tuning. Increase `target_accept` or reparameterize.\n"
          ]
        },
        {
          "output_type": "stream",
          "name": "stdout",
          "text": [
            "                       agentName  \\\n",
            "0                   perfectAgent   \n",
            "1                     worstAgent   \n",
            "2         perfectAgentWhenNoLava   \n",
            "3     perfectAgentTimeBelowThree   \n",
            "4       perfectAgentTimeBelowTwo   \n",
            "5  perfectAgentPositionsBelowTen   \n",
            "6                 AgentNoObjPerm   \n",
            "7           AgentNoObjPermOrLava   \n",
            "8           AgentNoObjPermOrRamp   \n",
            "\n",
            "                                           agentData  \n",
            "0  (posterior, log_likelihood, sample_stats, obse...  \n",
            "1  (posterior, log_likelihood, sample_stats, obse...  \n",
            "2  (posterior, log_likelihood, sample_stats, obse...  \n",
            "3  (posterior, log_likelihood, sample_stats, obse...  \n",
            "4  (posterior, log_likelihood, sample_stats, obse...  \n",
            "5  (posterior, log_likelihood, sample_stats, obse...  \n",
            "6  (posterior, log_likelihood, sample_stats, obse...  \n",
            "7  (posterior, log_likelihood, sample_stats, obse...  \n",
            "8  (posterior, log_likelihood, sample_stats, obse...  \n"
          ]
        }
      ]
    },
    {
      "cell_type": "code",
      "source": [
        "######## Plot and output results of the analysis #########\n",
        "\n",
        "#az.plot_dist(data['posterior'].to_array(), label=\"Posterior\")   # With so many variables this requires a lot of memory\n",
        "# Plotted together they overlap, better one by one\n",
        "#az.plot_trace(data, combined=True, var_names=[\"objPermAbility\", memoryAbility, \"flatNavAbility\", \"lavaAbility\", \"platformAbility\", \"rampAbility\", \"rightLeftBias\"]);\n",
        "from google.colab import data_table\n",
        "from vega_datasets import data\n",
        "\n",
        "data_table.enable_dataframe_formatter()\n",
        "#Define which abilities we want to plot\n",
        "abilitiesToShow = [\"objPermAbility\", \"flatNavAbility\", \"visualAcuityAbility\",\"lavaAbility\", \"platformAbility\", \"rampAbility\"]\n",
        "if memoryEffect != \"none\":\n",
        "    abilitiesToShow.append(\"memoryAbility\")\n",
        "if (includeIrrelevantFeatures) :\n",
        "  abilitiesToShow = abilitiesToShow + [\"rightLeftBias\", \"rednessBias\", \"greennessBias\", \"bluenessBias\"]\n",
        "\n",
        "abilityDF = pd.DataFrame( {'Ability': abilitiesToShow}) #Set up dataframe to store ability estimates for all agents\n",
        "OPDF = []\n",
        "#Now iterate through each agent and plot the results. Also add the posterior mean estimates for each ability to a dataframe for an overall view\n",
        "for i in range(fullData.shape[0]): # iterate through each agent\n",
        "  agentName = fullData.loc[i].at[\"agentName\"] #extract agent name\n",
        "  print(agentName)\n",
        "  data = fullData.loc[i].at[\"agentData\"] #Pull out the model outputs for the current agent\n",
        "  OPDF.append(np.mean(data['posterior'][\"objPermP\"]))\n",
        "  abilityMeans = [] # empty list to add in ability means to\n",
        "  abilitySDs = []\n",
        "  for a in abilitiesToShow: #iterate through each ability, add posterior mean to dataframe, and plot posterior\n",
        "    #print('Plotting ',a)\n",
        "    posteriorMean = float(np.mean(data['posterior'][a])) # calculate posterior mean\n",
        "    posteriorSD = float(np.std(data['posterior'][a])) #calculate posterior sd\n",
        "    abilityMeans.append(str(round(posteriorMean,2))+\" \") # add ability mean estimate to list for this agent\n",
        "    abilitySDs.append(\"     \"+str(round(posteriorSD,2)))\n",
        "    #print(a, \", range: [\", round(abilityMin[a],1), \":\", round(abilityMax[a],1), \"]\")\n",
        "    #print(\"Posterior distribution, m = \", posteriorMean, \", sd = \", posteriorSD) #print posterior for this ability\n",
        "\n",
        "\n",
        "    #print(data['posterior'][a].shape)\n",
        "    #print(data['posterior'][a].head())\n",
        "    #plt.hist(data['posterior'][a])\n",
        "    #az.plot_trace(data.posterior, combined=True, var_names=[a]); #plot posterior for this ability\n",
        " #   print(\"----------------------------\")\n",
        "  #abilityDF\n",
        "  abilityDF[agentName] = list(zip(abilityMeans, abilitySDs)) #now append the posterior means for this agent to the dataframe\n",
        "\n",
        "abilityDF # Now print ability estimates for all agents"
      ],
      "metadata": {
        "id": "e97AWlLpoZpT",
        "colab": {
          "base_uri": "https://localhost:8080/",
          "height": 498
        },
        "outputId": "c03fa82e-edfd-4159-9f90-496cf5ba2e1a"
      },
      "execution_count": null,
      "outputs": [
        {
          "output_type": "stream",
          "name": "stdout",
          "text": [
            "perfectAgent\n",
            "worstAgent\n",
            "perfectAgentWhenNoLava\n",
            "perfectAgentTimeBelowThree\n",
            "perfectAgentTimeBelowTwo\n",
            "perfectAgentPositionsBelowTen\n",
            "AgentNoObjPerm\n",
            "AgentNoObjPermOrLava\n",
            "AgentNoObjPermOrRamp\n"
          ]
        },
        {
          "output_type": "execute_result",
          "data": {
            "text/plain": [
              "                Ability         perfectAgent           worstAgent  \\\n",
              "0        objPermAbility  (46.37 ,      1.56)   (6.39 ,      8.14)   \n",
              "1        flatNavAbility    (5.79 ,      0.4)  (-3.26 ,      0.61)   \n",
              "2   visualAcuityAbility     (5.5 ,      0.0)   (0.44 ,      0.49)   \n",
              "3           lavaAbility     (1.0 ,      0.0)   (0.42 ,      0.28)   \n",
              "4       platformAbility     (1.0 ,      0.0)    (0.5 ,      0.29)   \n",
              "5           rampAbility     (1.0 ,      0.0)   (0.49 ,      0.29)   \n",
              "6         memoryAbility   (4.39 ,      0.01)    (1.23 ,      1.2)   \n",
              "7         rightLeftBias    (0.0 ,      0.51)    (0.0 ,      0.64)   \n",
              "8           rednessBias   (-0.8 ,      0.85)   (0.03 ,      1.02)   \n",
              "9         greennessBias  (-0.84 ,      0.84)   (0.01 ,      1.04)   \n",
              "10         bluenessBias   (-0.0 ,      1.03)    (0.0 ,      0.96)   \n",
              "\n",
              "   perfectAgentWhenNoLava perfectAgentTimeBelowThree perfectAgentTimeBelowTwo  \\\n",
              "0     (46.41 ,      1.56)         (32.6 ,      1.08)      (33.47 ,      1.33)   \n",
              "1      (5.52 ,      0.41)         (5.45 ,      0.39)       (5.42 ,      0.42)   \n",
              "2      (5.49 ,      0.01)         (5.49 ,      0.01)       (5.49 ,      0.01)   \n",
              "3        (0.0 ,      0.0)           (1.0 ,      0.0)         (1.0 ,      0.0)   \n",
              "4      (0.99 ,      0.01)         (0.96 ,      0.04)       (0.33 ,      0.05)   \n",
              "5        (1.0 ,      0.0)         (0.99 ,      0.01)       (0.98 ,      0.02)   \n",
              "6      (4.39 ,      0.01)         (3.02 ,      0.09)       (3.11 ,      0.11)   \n",
              "7       (0.0 ,      0.49)         (-0.0 ,      0.55)      (-0.01 ,      0.54)   \n",
              "8     (-0.86 ,      0.88)        (-3.41 ,      0.79)      (-2.81 ,      0.81)   \n",
              "9     (-0.84 ,      0.86)         (-3.4 ,      0.78)      (-2.82 ,      0.81)   \n",
              "10     (0.02 ,      0.97)         (0.01 ,      0.98)       (0.01 ,      0.96)   \n",
              "\n",
              "   perfectAgentPositionsBelowTen       AgentNoObjPerm AgentNoObjPermOrLava  \\\n",
              "0            (33.06 ,      4.88)   (6.82 ,      8.73)   (3.64 ,      6.92)   \n",
              "1            (-0.63 ,      0.07)  (-3.28 ,      0.64)    (5.2 ,      0.41)   \n",
              "2             (5.29 ,      0.16)   (0.45 ,      0.53)   (5.49 ,      0.01)   \n",
              "3             (0.99 ,      0.01)   (0.41 ,      0.29)    (0.01 ,      0.0)   \n",
              "4             (0.99 ,      0.01)     (0.5 ,      0.3)   (0.51 ,      0.29)   \n",
              "5               (1.0 ,      0.0)   (0.49 ,      0.29)     (0.4 ,      0.3)   \n",
              "6             (4.38 ,      0.02)    (1.27 ,      1.2)   (4.31 ,      0.08)   \n",
              "7             (-0.0 ,      0.08)    (0.0 ,      0.62)  (-0.01 ,      0.52)   \n",
              "8            (-0.02 ,      0.98)   (-0.0 ,      1.02)   (0.25 ,      0.92)   \n",
              "9            (-0.01 ,      0.99)   (0.01 ,      1.04)   (0.25 ,      0.99)   \n",
              "10            (0.04 ,      1.01)   (-0.0 ,      0.98)   (0.24 ,      0.92)   \n",
              "\n",
              "   AgentNoObjPermOrRamp  \n",
              "0    (1.38 ,      1.14)  \n",
              "1      (5.4 ,      0.4)  \n",
              "2    (5.49 ,      0.01)  \n",
              "3      (1.0 ,      0.0)  \n",
              "4    (0.39 ,      0.29)  \n",
              "5    (0.46 ,      0.29)  \n",
              "6    (4.33 ,      0.07)  \n",
              "7    (-0.0 ,      0.54)  \n",
              "8    (0.41 ,      0.92)  \n",
              "9     (0.4 ,      0.92)  \n",
              "10   (0.44 ,      0.92)  "
            ],
            "text/html": [
              "\n",
              "  <div id=\"df-9fcb32c9-98af-431e-96ff-9df041c9e9ff\">\n",
              "    <div class=\"colab-df-container\">\n",
              "      <div>\n",
              "<style scoped>\n",
              "    .dataframe tbody tr th:only-of-type {\n",
              "        vertical-align: middle;\n",
              "    }\n",
              "\n",
              "    .dataframe tbody tr th {\n",
              "        vertical-align: top;\n",
              "    }\n",
              "\n",
              "    .dataframe thead th {\n",
              "        text-align: right;\n",
              "    }\n",
              "</style>\n",
              "<table border=\"1\" class=\"dataframe\">\n",
              "  <thead>\n",
              "    <tr style=\"text-align: right;\">\n",
              "      <th></th>\n",
              "      <th>Ability</th>\n",
              "      <th>perfectAgent</th>\n",
              "      <th>worstAgent</th>\n",
              "      <th>perfectAgentWhenNoLava</th>\n",
              "      <th>perfectAgentTimeBelowThree</th>\n",
              "      <th>perfectAgentTimeBelowTwo</th>\n",
              "      <th>perfectAgentPositionsBelowTen</th>\n",
              "      <th>AgentNoObjPerm</th>\n",
              "      <th>AgentNoObjPermOrLava</th>\n",
              "      <th>AgentNoObjPermOrRamp</th>\n",
              "    </tr>\n",
              "  </thead>\n",
              "  <tbody>\n",
              "    <tr>\n",
              "      <th>0</th>\n",
              "      <td>objPermAbility</td>\n",
              "      <td>(46.37 ,      1.56)</td>\n",
              "      <td>(6.39 ,      8.14)</td>\n",
              "      <td>(46.41 ,      1.56)</td>\n",
              "      <td>(32.6 ,      1.08)</td>\n",
              "      <td>(33.47 ,      1.33)</td>\n",
              "      <td>(33.06 ,      4.88)</td>\n",
              "      <td>(6.82 ,      8.73)</td>\n",
              "      <td>(3.64 ,      6.92)</td>\n",
              "      <td>(1.38 ,      1.14)</td>\n",
              "    </tr>\n",
              "    <tr>\n",
              "      <th>1</th>\n",
              "      <td>flatNavAbility</td>\n",
              "      <td>(5.79 ,      0.4)</td>\n",
              "      <td>(-3.26 ,      0.61)</td>\n",
              "      <td>(5.52 ,      0.41)</td>\n",
              "      <td>(5.45 ,      0.39)</td>\n",
              "      <td>(5.42 ,      0.42)</td>\n",
              "      <td>(-0.63 ,      0.07)</td>\n",
              "      <td>(-3.28 ,      0.64)</td>\n",
              "      <td>(5.2 ,      0.41)</td>\n",
              "      <td>(5.4 ,      0.4)</td>\n",
              "    </tr>\n",
              "    <tr>\n",
              "      <th>2</th>\n",
              "      <td>visualAcuityAbility</td>\n",
              "      <td>(5.5 ,      0.0)</td>\n",
              "      <td>(0.44 ,      0.49)</td>\n",
              "      <td>(5.49 ,      0.01)</td>\n",
              "      <td>(5.49 ,      0.01)</td>\n",
              "      <td>(5.49 ,      0.01)</td>\n",
              "      <td>(5.29 ,      0.16)</td>\n",
              "      <td>(0.45 ,      0.53)</td>\n",
              "      <td>(5.49 ,      0.01)</td>\n",
              "      <td>(5.49 ,      0.01)</td>\n",
              "    </tr>\n",
              "    <tr>\n",
              "      <th>3</th>\n",
              "      <td>lavaAbility</td>\n",
              "      <td>(1.0 ,      0.0)</td>\n",
              "      <td>(0.42 ,      0.28)</td>\n",
              "      <td>(0.0 ,      0.0)</td>\n",
              "      <td>(1.0 ,      0.0)</td>\n",
              "      <td>(1.0 ,      0.0)</td>\n",
              "      <td>(0.99 ,      0.01)</td>\n",
              "      <td>(0.41 ,      0.29)</td>\n",
              "      <td>(0.01 ,      0.0)</td>\n",
              "      <td>(1.0 ,      0.0)</td>\n",
              "    </tr>\n",
              "    <tr>\n",
              "      <th>4</th>\n",
              "      <td>platformAbility</td>\n",
              "      <td>(1.0 ,      0.0)</td>\n",
              "      <td>(0.5 ,      0.29)</td>\n",
              "      <td>(0.99 ,      0.01)</td>\n",
              "      <td>(0.96 ,      0.04)</td>\n",
              "      <td>(0.33 ,      0.05)</td>\n",
              "      <td>(0.99 ,      0.01)</td>\n",
              "      <td>(0.5 ,      0.3)</td>\n",
              "      <td>(0.51 ,      0.29)</td>\n",
              "      <td>(0.39 ,      0.29)</td>\n",
              "    </tr>\n",
              "    <tr>\n",
              "      <th>5</th>\n",
              "      <td>rampAbility</td>\n",
              "      <td>(1.0 ,      0.0)</td>\n",
              "      <td>(0.49 ,      0.29)</td>\n",
              "      <td>(1.0 ,      0.0)</td>\n",
              "      <td>(0.99 ,      0.01)</td>\n",
              "      <td>(0.98 ,      0.02)</td>\n",
              "      <td>(1.0 ,      0.0)</td>\n",
              "      <td>(0.49 ,      0.29)</td>\n",
              "      <td>(0.4 ,      0.3)</td>\n",
              "      <td>(0.46 ,      0.29)</td>\n",
              "    </tr>\n",
              "    <tr>\n",
              "      <th>6</th>\n",
              "      <td>memoryAbility</td>\n",
              "      <td>(4.39 ,      0.01)</td>\n",
              "      <td>(1.23 ,      1.2)</td>\n",
              "      <td>(4.39 ,      0.01)</td>\n",
              "      <td>(3.02 ,      0.09)</td>\n",
              "      <td>(3.11 ,      0.11)</td>\n",
              "      <td>(4.38 ,      0.02)</td>\n",
              "      <td>(1.27 ,      1.2)</td>\n",
              "      <td>(4.31 ,      0.08)</td>\n",
              "      <td>(4.33 ,      0.07)</td>\n",
              "    </tr>\n",
              "    <tr>\n",
              "      <th>7</th>\n",
              "      <td>rightLeftBias</td>\n",
              "      <td>(0.0 ,      0.51)</td>\n",
              "      <td>(0.0 ,      0.64)</td>\n",
              "      <td>(0.0 ,      0.49)</td>\n",
              "      <td>(-0.0 ,      0.55)</td>\n",
              "      <td>(-0.01 ,      0.54)</td>\n",
              "      <td>(-0.0 ,      0.08)</td>\n",
              "      <td>(0.0 ,      0.62)</td>\n",
              "      <td>(-0.01 ,      0.52)</td>\n",
              "      <td>(-0.0 ,      0.54)</td>\n",
              "    </tr>\n",
              "    <tr>\n",
              "      <th>8</th>\n",
              "      <td>rednessBias</td>\n",
              "      <td>(-0.8 ,      0.85)</td>\n",
              "      <td>(0.03 ,      1.02)</td>\n",
              "      <td>(-0.86 ,      0.88)</td>\n",
              "      <td>(-3.41 ,      0.79)</td>\n",
              "      <td>(-2.81 ,      0.81)</td>\n",
              "      <td>(-0.02 ,      0.98)</td>\n",
              "      <td>(-0.0 ,      1.02)</td>\n",
              "      <td>(0.25 ,      0.92)</td>\n",
              "      <td>(0.41 ,      0.92)</td>\n",
              "    </tr>\n",
              "    <tr>\n",
              "      <th>9</th>\n",
              "      <td>greennessBias</td>\n",
              "      <td>(-0.84 ,      0.84)</td>\n",
              "      <td>(0.01 ,      1.04)</td>\n",
              "      <td>(-0.84 ,      0.86)</td>\n",
              "      <td>(-3.4 ,      0.78)</td>\n",
              "      <td>(-2.82 ,      0.81)</td>\n",
              "      <td>(-0.01 ,      0.99)</td>\n",
              "      <td>(0.01 ,      1.04)</td>\n",
              "      <td>(0.25 ,      0.99)</td>\n",
              "      <td>(0.4 ,      0.92)</td>\n",
              "    </tr>\n",
              "    <tr>\n",
              "      <th>10</th>\n",
              "      <td>bluenessBias</td>\n",
              "      <td>(-0.0 ,      1.03)</td>\n",
              "      <td>(0.0 ,      0.96)</td>\n",
              "      <td>(0.02 ,      0.97)</td>\n",
              "      <td>(0.01 ,      0.98)</td>\n",
              "      <td>(0.01 ,      0.96)</td>\n",
              "      <td>(0.04 ,      1.01)</td>\n",
              "      <td>(-0.0 ,      0.98)</td>\n",
              "      <td>(0.24 ,      0.92)</td>\n",
              "      <td>(0.44 ,      0.92)</td>\n",
              "    </tr>\n",
              "  </tbody>\n",
              "</table>\n",
              "</div>\n",
              "      <button class=\"colab-df-convert\" onclick=\"convertToInteractive('df-9fcb32c9-98af-431e-96ff-9df041c9e9ff')\"\n",
              "              title=\"Convert this dataframe to an interactive table.\"\n",
              "              style=\"display:none;\">\n",
              "        \n",
              "  <svg xmlns=\"http://www.w3.org/2000/svg\" height=\"24px\"viewBox=\"0 0 24 24\"\n",
              "       width=\"24px\">\n",
              "    <path d=\"M0 0h24v24H0V0z\" fill=\"none\"/>\n",
              "    <path d=\"M18.56 5.44l.94 2.06.94-2.06 2.06-.94-2.06-.94-.94-2.06-.94 2.06-2.06.94zm-11 1L8.5 8.5l.94-2.06 2.06-.94-2.06-.94L8.5 2.5l-.94 2.06-2.06.94zm10 10l.94 2.06.94-2.06 2.06-.94-2.06-.94-.94-2.06-.94 2.06-2.06.94z\"/><path d=\"M17.41 7.96l-1.37-1.37c-.4-.4-.92-.59-1.43-.59-.52 0-1.04.2-1.43.59L10.3 9.45l-7.72 7.72c-.78.78-.78 2.05 0 2.83L4 21.41c.39.39.9.59 1.41.59.51 0 1.02-.2 1.41-.59l7.78-7.78 2.81-2.81c.8-.78.8-2.07 0-2.86zM5.41 20L4 18.59l7.72-7.72 1.47 1.35L5.41 20z\"/>\n",
              "  </svg>\n",
              "      </button>\n",
              "      \n",
              "  <style>\n",
              "    .colab-df-container {\n",
              "      display:flex;\n",
              "      flex-wrap:wrap;\n",
              "      gap: 12px;\n",
              "    }\n",
              "\n",
              "    .colab-df-convert {\n",
              "      background-color: #E8F0FE;\n",
              "      border: none;\n",
              "      border-radius: 50%;\n",
              "      cursor: pointer;\n",
              "      display: none;\n",
              "      fill: #1967D2;\n",
              "      height: 32px;\n",
              "      padding: 0 0 0 0;\n",
              "      width: 32px;\n",
              "    }\n",
              "\n",
              "    .colab-df-convert:hover {\n",
              "      background-color: #E2EBFA;\n",
              "      box-shadow: 0px 1px 2px rgba(60, 64, 67, 0.3), 0px 1px 3px 1px rgba(60, 64, 67, 0.15);\n",
              "      fill: #174EA6;\n",
              "    }\n",
              "\n",
              "    [theme=dark] .colab-df-convert {\n",
              "      background-color: #3B4455;\n",
              "      fill: #D2E3FC;\n",
              "    }\n",
              "\n",
              "    [theme=dark] .colab-df-convert:hover {\n",
              "      background-color: #434B5C;\n",
              "      box-shadow: 0px 1px 3px 1px rgba(0, 0, 0, 0.15);\n",
              "      filter: drop-shadow(0px 1px 2px rgba(0, 0, 0, 0.3));\n",
              "      fill: #FFFFFF;\n",
              "    }\n",
              "  </style>\n",
              "\n",
              "      <script>\n",
              "        const buttonEl =\n",
              "          document.querySelector('#df-9fcb32c9-98af-431e-96ff-9df041c9e9ff button.colab-df-convert');\n",
              "        buttonEl.style.display =\n",
              "          google.colab.kernel.accessAllowed ? 'block' : 'none';\n",
              "\n",
              "        async function convertToInteractive(key) {\n",
              "          const element = document.querySelector('#df-9fcb32c9-98af-431e-96ff-9df041c9e9ff');\n",
              "          const dataTable =\n",
              "            await google.colab.kernel.invokeFunction('convertToInteractive',\n",
              "                                                     [key], {});\n",
              "          if (!dataTable) return;\n",
              "\n",
              "          const docLinkHtml = 'Like what you see? Visit the ' +\n",
              "            '<a target=\"_blank\" href=https://colab.research.google.com/notebooks/data_table.ipynb>data table notebook</a>'\n",
              "            + ' to learn more about interactive tables.';\n",
              "          element.innerHTML = '';\n",
              "          dataTable['output_type'] = 'display_data';\n",
              "          await google.colab.output.renderOutput(dataTable, element);\n",
              "          const docLink = document.createElement('div');\n",
              "          docLink.innerHTML = docLinkHtml;\n",
              "          element.appendChild(docLink);\n",
              "        }\n",
              "      </script>\n",
              "    </div>\n",
              "  </div>\n",
              "  "
            ],
            "application/vnd.google.colaboratory.module+javascript": "\n      import \"https://ssl.gstatic.com/colaboratory/data_table/fb998edc550c7947/data_table.js\";\n\n      window.createDataTable({\n        data: [[{\n            'v': 0,\n            'f': \"0\",\n        },\n\"objPermAbility\",\n[\"46.37 \", \"     1.56\"],\n[\"6.39 \", \"     8.14\"],\n[\"46.41 \", \"     1.56\"],\n[\"32.6 \", \"     1.08\"],\n[\"33.47 \", \"     1.33\"],\n[\"33.06 \", \"     4.88\"],\n[\"6.82 \", \"     8.73\"],\n[\"3.64 \", \"     6.92\"],\n[\"1.38 \", \"     1.14\"]],\n [{\n            'v': 1,\n            'f': \"1\",\n        },\n\"flatNavAbility\",\n[\"5.79 \", \"     0.4\"],\n[\"-3.26 \", \"     0.61\"],\n[\"5.52 \", \"     0.41\"],\n[\"5.45 \", \"     0.39\"],\n[\"5.42 \", \"     0.42\"],\n[\"-0.63 \", \"     0.07\"],\n[\"-3.28 \", \"     0.64\"],\n[\"5.2 \", \"     0.41\"],\n[\"5.4 \", \"     0.4\"]],\n [{\n            'v': 2,\n            'f': \"2\",\n        },\n\"visualAcuityAbility\",\n[\"5.5 \", \"     0.0\"],\n[\"0.44 \", \"     0.49\"],\n[\"5.49 \", \"     0.01\"],\n[\"5.49 \", \"     0.01\"],\n[\"5.49 \", \"     0.01\"],\n[\"5.29 \", \"     0.16\"],\n[\"0.45 \", \"     0.53\"],\n[\"5.49 \", \"     0.01\"],\n[\"5.49 \", \"     0.01\"]],\n [{\n            'v': 3,\n            'f': \"3\",\n        },\n\"lavaAbility\",\n[\"1.0 \", \"     0.0\"],\n[\"0.42 \", \"     0.28\"],\n[\"0.0 \", \"     0.0\"],\n[\"1.0 \", \"     0.0\"],\n[\"1.0 \", \"     0.0\"],\n[\"0.99 \", \"     0.01\"],\n[\"0.41 \", \"     0.29\"],\n[\"0.01 \", \"     0.0\"],\n[\"1.0 \", \"     0.0\"]],\n [{\n            'v': 4,\n            'f': \"4\",\n        },\n\"platformAbility\",\n[\"1.0 \", \"     0.0\"],\n[\"0.5 \", \"     0.29\"],\n[\"0.99 \", \"     0.01\"],\n[\"0.96 \", \"     0.04\"],\n[\"0.33 \", \"     0.05\"],\n[\"0.99 \", \"     0.01\"],\n[\"0.5 \", \"     0.3\"],\n[\"0.51 \", \"     0.29\"],\n[\"0.39 \", \"     0.29\"]],\n [{\n            'v': 5,\n            'f': \"5\",\n        },\n\"rampAbility\",\n[\"1.0 \", \"     0.0\"],\n[\"0.49 \", \"     0.29\"],\n[\"1.0 \", \"     0.0\"],\n[\"0.99 \", \"     0.01\"],\n[\"0.98 \", \"     0.02\"],\n[\"1.0 \", \"     0.0\"],\n[\"0.49 \", \"     0.29\"],\n[\"0.4 \", \"     0.3\"],\n[\"0.46 \", \"     0.29\"]],\n [{\n            'v': 6,\n            'f': \"6\",\n        },\n\"memoryAbility\",\n[\"4.39 \", \"     0.01\"],\n[\"1.23 \", \"     1.2\"],\n[\"4.39 \", \"     0.01\"],\n[\"3.02 \", \"     0.09\"],\n[\"3.11 \", \"     0.11\"],\n[\"4.38 \", \"     0.02\"],\n[\"1.27 \", \"     1.2\"],\n[\"4.31 \", \"     0.08\"],\n[\"4.33 \", \"     0.07\"]],\n [{\n            'v': 7,\n            'f': \"7\",\n        },\n\"rightLeftBias\",\n[\"0.0 \", \"     0.51\"],\n[\"0.0 \", \"     0.64\"],\n[\"0.0 \", \"     0.49\"],\n[\"-0.0 \", \"     0.55\"],\n[\"-0.01 \", \"     0.54\"],\n[\"-0.0 \", \"     0.08\"],\n[\"0.0 \", \"     0.62\"],\n[\"-0.01 \", \"     0.52\"],\n[\"-0.0 \", \"     0.54\"]],\n [{\n            'v': 8,\n            'f': \"8\",\n        },\n\"rednessBias\",\n[\"-0.8 \", \"     0.85\"],\n[\"0.03 \", \"     1.02\"],\n[\"-0.86 \", \"     0.88\"],\n[\"-3.41 \", \"     0.79\"],\n[\"-2.81 \", \"     0.81\"],\n[\"-0.02 \", \"     0.98\"],\n[\"-0.0 \", \"     1.02\"],\n[\"0.25 \", \"     0.92\"],\n[\"0.41 \", \"     0.92\"]],\n [{\n            'v': 9,\n            'f': \"9\",\n        },\n\"greennessBias\",\n[\"-0.84 \", \"     0.84\"],\n[\"0.01 \", \"     1.04\"],\n[\"-0.84 \", \"     0.86\"],\n[\"-3.4 \", \"     0.78\"],\n[\"-2.82 \", \"     0.81\"],\n[\"-0.01 \", \"     0.99\"],\n[\"0.01 \", \"     1.04\"],\n[\"0.25 \", \"     0.99\"],\n[\"0.4 \", \"     0.92\"]],\n [{\n            'v': 10,\n            'f': \"10\",\n        },\n\"bluenessBias\",\n[\"-0.0 \", \"     1.03\"],\n[\"0.0 \", \"     0.96\"],\n[\"0.02 \", \"     0.97\"],\n[\"0.01 \", \"     0.98\"],\n[\"0.01 \", \"     0.96\"],\n[\"0.04 \", \"     1.01\"],\n[\"-0.0 \", \"     0.98\"],\n[\"0.24 \", \"     0.92\"],\n[\"0.44 \", \"     0.92\"]]],\n        columns: [[\"number\", \"index\"], [\"string\", \"Ability\"], [\"string\", \"perfectAgent\"], [\"string\", \"worstAgent\"], [\"string\", \"perfectAgentWhenNoLava\"], [\"string\", \"perfectAgentTimeBelowThree\"], [\"string\", \"perfectAgentTimeBelowTwo\"], [\"string\", \"perfectAgentPositionsBelowTen\"], [\"string\", \"AgentNoObjPerm\"], [\"string\", \"AgentNoObjPermOrLava\"], [\"string\", \"AgentNoObjPermOrRamp\"]],\n        columnOptions: [{\"width\": \"1px\", \"className\": \"index_column\"}],\n        rowsPerPage: 25,\n        helpUrl: \"https://colab.research.google.com/notebooks/data_table.ipynb\",\n        suppressOutputScrolling: true,\n        minimumWidth: undefined,\n      });\n    "
          },
          "metadata": {},
          "execution_count": 17
        }
      ]
    },
    {
      "cell_type": "markdown",
      "source": [
        "|index|Ability|Agent1|Agent2|Agent3|Agent4|Agent5|Agent6|Agent7|Agent8|Agent9|Agent10|Agent11|Agent12|Agent13|Agent14|Agent15|Agent16|Agent17|\n",
        "|---|---|---|---|---|---|---|---|---|---|---|---|---|---|---|---|---|---|---|\n",
        "|0|objPermAbility|47\\.02003323372466|46\\.098626776216534|45\\.05132189033916|46\\.92419295994417|46\\.95938413795061|46\\.96565813027254|46\\.958537707997316|45\\.55983018633011|46\\.977144269883325|46\\.06943086068638|46\\.70518019956784|46\\.72152326213992|46\\.863015802808555|47\\.02644400875298|46\\.94022802900066|35\\.05926021063485|43\\.63009523498952|\n",
        "|1|flatNavAbility|5\\.795104928150736|0\\.47984809254763205|-0\\.829744125864359|3\\.969226688564791|4\\.778852333108284|4\\.836020901478665|5\\.081515487362888|2\\.6481311369340066|5\\.016397641531663|3\\.9587688961741403|1\\.269184146696179|1\\.1902699241234735|5\\.234708566242701|5\\.71622570392052|5\\.132899713550592|4\\.928266110765905|4\\.922876511709855|\n",
        "|2|visualAcuityAbility|5\\.49537039858485|5\\.456879085536455|5\\.315025715738043|5\\.491426158439225|5\\.492270160967031|5\\.492522325725092|5\\.493376947598949|5\\.477405755607356|5\\.493212836524292|3\\.5206223314165586|5\\.4839900949669|5\\.482120751614903|5\\.493558646085476|5\\.495249075648806|5\\.494163611978874|5\\.490410439059522|5\\.492828243340864|\n",
        "|3|lavaAbility|0\\.997686341999611|0\\.9163125510747738|0\\.26404426903001244|0\\.9950380519100258|0\\.14449908866508282|0\\.8607101467645751|0\\.990104615587157|0\\.6736127528697476|0\\.9605472423080884|0\\.9898674933610596|0\\.9698725139536623|0\\.9808342312100581|0\\.9963594143374592|0\\.9972825649822441|0\\.9957709207743501|0\\.9903045501743692|0\\.9948870634430539|\n",
        "|4|platformAbility|0\\.9956577674814361|0\\.9837224299656159|0\\.8782526777618502|0\\.9939775310419179|0\\.9942439195554236|0\\.9944607641755732|0\\.9945318409808|0\\.9681742557837731|0\\.9927287913524258|0\\.9640360104446005|0\\.9898374822614485|0\\.9910050407618812|0\\.9814804358522078|0\\.9930897704263163|0\\.9935842381265396|0\\.4027531478775481|0\\.9229861027708262|\n",
        "|5|rampAbility|0\\.9982070290855533|0\\.9901195147189362|0\\.5496555220872269|0\\.9963234696325891|0\\.9963637071002851|0\\.9970476038481892|0\\.9952130887038441|0\\.988167399455086|0\\.9978217165382509|0\\.9916821598148357|0\\.9936722778412852|0\\.9950989018809079|0\\.9968296351376127|0\\.998224144139198|0\\.9975436106722753|0\\.9420494245263928|0\\.996439332847216|\n",
        "|6|memoryAbility|4\\.390058899073454|4\\.350472276264443|4\\.226995122026297|4\\.382541531354644|4\\.382437664029189|4\\.382613486465915|4\\.382872805751512|4\\.346304645185185|4\\.385271946551475|4\\.362915238992375|4\\.373061805649134|4\\.37521281223897|4\\.3837711656466425|4\\.388171647575197|4\\.385177709391313|3\\.217644943921112|4\\.379283687565115|\n",
        "|7|rightLeftBias|-0\\.01110800265205543|-0\\.04207355326557159|0\\.05708519196252651|0\\.03985607484730692|0\\.11394357670048852|-0\\.10201652307569208|0\\.009921315761046176|0\\.192891041016523|0\\.02821818157146916|-0\\.007445064070868996|1\\.8276753282352565|-2\\.0566285271102798|0\\.11617979214436898|-0\\.0011619481304898577|0\\.2881274435448254|0\\.1939960391423451|0\\.012037788282756565|\n",
        "|8|rednessBias|-0\\.6282005496388726|-0\\.36585283372234667|-0\\.5471336150404469|-0\\.658434116323233|-0\\.6737191163993553|-0\\.630974228140108|-0\\.6501916943143458|-0\\.26407698655609024|-0\\.5958034076444306|-0\\.3856549325113466|-0\\.507276635160585|-0\\.5168369517576448|-0\\.5627949022168548|-0\\.6216299560513334|-0\\.613554184296872|-3\\.0092665008559694|-0\\.06487619739658666|\n",
        "|9|greennessBias|-0\\.6436285367685296|-0\\.3971144436564426|-0\\.5640049247878701|-0\\.6297464538914387|-0\\.6312426897037049|-0\\.5901650892039823|-0\\.6703193245407904|-0\\.24276713472242148|-0\\.5985039569471668|-0\\.4187851688265593|-0\\.4640734961646798|-0\\.5413839584864446|-0\\.5623591972494592|-0\\.6200089010164387|-0\\.5547304885644865|-2\\.989122277099782|-0\\.06153345250421975|\n",
        "|10|bluenessBias|0\\.61374046448916|0\\.38877566652921375|0\\.5277677635288177|0\\.5831727040737765|0\\.5968885959957849|0\\.6240081052126013|0\\.6191615151284425|0\\.27514744927841495|0\\.592313579929392|0\\.40742850613156006|0\\.5861257966258265|0\\.57308845156368|0\\.5732698932534273|0\\.606015619557839|0\\.671435718594771|3\\.0199112298333186|0\\.04506268990917734|"
      ],
      "metadata": {
        "id": "c2jLFo-_eiRU"
      }
    }
  ]
}